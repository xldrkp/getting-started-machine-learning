{
 "cells": [
  {
   "cell_type": "markdown",
   "id": "20211d1e-3fd4-49d1-b3aa-d20a990265e9",
   "metadata": {},
   "source": [
    "# Daten vorbereiten"
   ]
  },
  {
   "cell_type": "code",
   "execution_count": 53,
   "id": "7dab6ba6-b099-4afe-964a-55360aeb9dad",
   "metadata": {},
   "outputs": [],
   "source": [
    "#!pip install sklearn"
   ]
  },
  {
   "cell_type": "code",
   "execution_count": 54,
   "id": "e87ae59a-0040-427b-a86f-fe6aef1f87d1",
   "metadata": {},
   "outputs": [],
   "source": [
    "import numpy as np\n",
    "import matplotlib.pyplot as plt\n",
    "import pandas as pd"
   ]
  },
  {
   "cell_type": "markdown",
   "id": "c09c4094-2218-405b-8bc0-bc107fc9c2c2",
   "metadata": {},
   "source": [
    "## Daten importieren und kennenlernen"
   ]
  },
  {
   "cell_type": "code",
   "execution_count": 55,
   "id": "68c216d4-b639-44b7-9777-9fcdd3ca837c",
   "metadata": {},
   "outputs": [],
   "source": [
    "dataset = pd.read_csv(\"data/dataset.csv\")"
   ]
  },
  {
   "cell_type": "code",
   "execution_count": 56,
   "id": "a67e2901-ef63-41b2-abac-58d651927b90",
   "metadata": {},
   "outputs": [
    {
     "name": "stdout",
     "output_type": "stream",
     "text": [
      "<class 'pandas.core.frame.DataFrame'>\n",
      "RangeIndex: 10 entries, 0 to 9\n",
      "Data columns (total 4 columns):\n",
      " #   Column   Non-Null Count  Dtype  \n",
      "---  ------   --------------  -----  \n",
      " 0   Land     10 non-null     object \n",
      " 1   Alter    9 non-null      float64\n",
      " 2   Gehalt   9 non-null      float64\n",
      " 3   gekauft  10 non-null     object \n",
      "dtypes: float64(2), object(2)\n",
      "memory usage: 448.0+ bytes\n"
     ]
    }
   ],
   "source": [
    "dataset.info()"
   ]
  },
  {
   "cell_type": "code",
   "execution_count": 57,
   "id": "0b3acf96-97ed-473b-8bd8-72484e6bc69a",
   "metadata": {},
   "outputs": [
    {
     "data": {
      "text/html": [
       "<div>\n",
       "<style scoped>\n",
       "    .dataframe tbody tr th:only-of-type {\n",
       "        vertical-align: middle;\n",
       "    }\n",
       "\n",
       "    .dataframe tbody tr th {\n",
       "        vertical-align: top;\n",
       "    }\n",
       "\n",
       "    .dataframe thead th {\n",
       "        text-align: right;\n",
       "    }\n",
       "</style>\n",
       "<table border=\"1\" class=\"dataframe\">\n",
       "  <thead>\n",
       "    <tr style=\"text-align: right;\">\n",
       "      <th></th>\n",
       "      <th>Land</th>\n",
       "      <th>Alter</th>\n",
       "      <th>Gehalt</th>\n",
       "      <th>gekauft</th>\n",
       "    </tr>\n",
       "  </thead>\n",
       "  <tbody>\n",
       "    <tr>\n",
       "      <th>0</th>\n",
       "      <td>Frankreich</td>\n",
       "      <td>44.0</td>\n",
       "      <td>72000.0</td>\n",
       "      <td>Nein</td>\n",
       "    </tr>\n",
       "    <tr>\n",
       "      <th>1</th>\n",
       "      <td>Griechenland</td>\n",
       "      <td>27.0</td>\n",
       "      <td>48000.0</td>\n",
       "      <td>Ja</td>\n",
       "    </tr>\n",
       "    <tr>\n",
       "      <th>2</th>\n",
       "      <td>Deutschland</td>\n",
       "      <td>30.0</td>\n",
       "      <td>54000.0</td>\n",
       "      <td>Nein</td>\n",
       "    </tr>\n",
       "    <tr>\n",
       "      <th>3</th>\n",
       "      <td>Griechenland</td>\n",
       "      <td>38.0</td>\n",
       "      <td>61000.0</td>\n",
       "      <td>Nein</td>\n",
       "    </tr>\n",
       "    <tr>\n",
       "      <th>4</th>\n",
       "      <td>Deutschland</td>\n",
       "      <td>40.0</td>\n",
       "      <td>NaN</td>\n",
       "      <td>Ja</td>\n",
       "    </tr>\n",
       "    <tr>\n",
       "      <th>5</th>\n",
       "      <td>Frankreich</td>\n",
       "      <td>35.0</td>\n",
       "      <td>58000.0</td>\n",
       "      <td>Ja</td>\n",
       "    </tr>\n",
       "    <tr>\n",
       "      <th>6</th>\n",
       "      <td>Griechenland</td>\n",
       "      <td>NaN</td>\n",
       "      <td>52000.0</td>\n",
       "      <td>Nein</td>\n",
       "    </tr>\n",
       "    <tr>\n",
       "      <th>7</th>\n",
       "      <td>Frankreich</td>\n",
       "      <td>48.0</td>\n",
       "      <td>79000.0</td>\n",
       "      <td>Ja</td>\n",
       "    </tr>\n",
       "    <tr>\n",
       "      <th>8</th>\n",
       "      <td>Deutschland</td>\n",
       "      <td>50.0</td>\n",
       "      <td>83000.0</td>\n",
       "      <td>Nein</td>\n",
       "    </tr>\n",
       "    <tr>\n",
       "      <th>9</th>\n",
       "      <td>Frankreich</td>\n",
       "      <td>37.0</td>\n",
       "      <td>67000.0</td>\n",
       "      <td>Ja</td>\n",
       "    </tr>\n",
       "  </tbody>\n",
       "</table>\n",
       "</div>"
      ],
      "text/plain": [
       "           Land  Alter   Gehalt gekauft\n",
       "0    Frankreich   44.0  72000.0    Nein\n",
       "1  Griechenland   27.0  48000.0      Ja\n",
       "2   Deutschland   30.0  54000.0    Nein\n",
       "3  Griechenland   38.0  61000.0    Nein\n",
       "4   Deutschland   40.0      NaN      Ja\n",
       "5    Frankreich   35.0  58000.0      Ja\n",
       "6  Griechenland    NaN  52000.0    Nein\n",
       "7    Frankreich   48.0  79000.0      Ja\n",
       "8   Deutschland   50.0  83000.0    Nein\n",
       "9    Frankreich   37.0  67000.0      Ja"
      ]
     },
     "execution_count": 57,
     "metadata": {},
     "output_type": "execute_result"
    }
   ],
   "source": [
    "dataset"
   ]
  },
  {
   "cell_type": "code",
   "execution_count": 58,
   "id": "d7be5064-c631-4838-b981-938ad23ab284",
   "metadata": {},
   "outputs": [
    {
     "data": {
      "text/html": [
       "<div>\n",
       "<style scoped>\n",
       "    .dataframe tbody tr th:only-of-type {\n",
       "        vertical-align: middle;\n",
       "    }\n",
       "\n",
       "    .dataframe tbody tr th {\n",
       "        vertical-align: top;\n",
       "    }\n",
       "\n",
       "    .dataframe thead th {\n",
       "        text-align: right;\n",
       "    }\n",
       "</style>\n",
       "<table border=\"1\" class=\"dataframe\">\n",
       "  <thead>\n",
       "    <tr style=\"text-align: right;\">\n",
       "      <th></th>\n",
       "      <th>Land</th>\n",
       "      <th>Alter</th>\n",
       "      <th>Gehalt</th>\n",
       "      <th>gekauft</th>\n",
       "    </tr>\n",
       "  </thead>\n",
       "  <tbody>\n",
       "    <tr>\n",
       "      <th>0</th>\n",
       "      <td>Frankreich</td>\n",
       "      <td>44.0</td>\n",
       "      <td>72000.0</td>\n",
       "      <td>Nein</td>\n",
       "    </tr>\n",
       "    <tr>\n",
       "      <th>1</th>\n",
       "      <td>Griechenland</td>\n",
       "      <td>27.0</td>\n",
       "      <td>48000.0</td>\n",
       "      <td>Ja</td>\n",
       "    </tr>\n",
       "    <tr>\n",
       "      <th>2</th>\n",
       "      <td>Deutschland</td>\n",
       "      <td>30.0</td>\n",
       "      <td>54000.0</td>\n",
       "      <td>Nein</td>\n",
       "    </tr>\n",
       "    <tr>\n",
       "      <th>3</th>\n",
       "      <td>Griechenland</td>\n",
       "      <td>38.0</td>\n",
       "      <td>61000.0</td>\n",
       "      <td>Nein</td>\n",
       "    </tr>\n",
       "    <tr>\n",
       "      <th>4</th>\n",
       "      <td>Deutschland</td>\n",
       "      <td>40.0</td>\n",
       "      <td>NaN</td>\n",
       "      <td>Ja</td>\n",
       "    </tr>\n",
       "  </tbody>\n",
       "</table>\n",
       "</div>"
      ],
      "text/plain": [
       "           Land  Alter   Gehalt gekauft\n",
       "0    Frankreich   44.0  72000.0    Nein\n",
       "1  Griechenland   27.0  48000.0      Ja\n",
       "2   Deutschland   30.0  54000.0    Nein\n",
       "3  Griechenland   38.0  61000.0    Nein\n",
       "4   Deutschland   40.0      NaN      Ja"
      ]
     },
     "execution_count": 58,
     "metadata": {},
     "output_type": "execute_result"
    }
   ],
   "source": [
    "dataset.head()"
   ]
  },
  {
   "cell_type": "markdown",
   "id": "4101161d-e25e-4366-a8c7-0f532ce649c2",
   "metadata": {},
   "source": [
    "## Featurematrix auswählen\n",
    "\n",
    "Wir bestimmen das Set von unabhängigen Variablen."
   ]
  },
  {
   "cell_type": "markdown",
   "id": "831cff0e-608d-4125-9fb1-2f01f6bd1792",
   "metadata": {},
   "source": [
    "\n",
    "\n",
    "Wir wählen mit `[:, :-1]` aus, dass wir alle Zeilen wollen (`[:, ...]`) und alle Spalten **ohne** die letzte (`[..., :-1]`)."
   ]
  },
  {
   "cell_type": "code",
   "execution_count": 59,
   "id": "ab859085-c81d-4353-aa68-a1b1cb4b4fc1",
   "metadata": {},
   "outputs": [],
   "source": [
    "X = dataset.iloc[:, :-1].values"
   ]
  },
  {
   "cell_type": "code",
   "execution_count": 60,
   "id": "8017c58f-1197-4c71-abfb-db324bbae04c",
   "metadata": {},
   "outputs": [
    {
     "name": "stdout",
     "output_type": "stream",
     "text": [
      "[['Frankreich' 44.0 72000.0]\n",
      " ['Griechenland' 27.0 48000.0]\n",
      " ['Deutschland' 30.0 54000.0]\n",
      " ['Griechenland' 38.0 61000.0]\n",
      " ['Deutschland' 40.0 nan]\n",
      " ['Frankreich' 35.0 58000.0]\n",
      " ['Griechenland' nan 52000.0]\n",
      " ['Frankreich' 48.0 79000.0]\n",
      " ['Deutschland' 50.0 83000.0]\n",
      " ['Frankreich' 37.0 67000.0]]\n"
     ]
    }
   ],
   "source": [
    "print(X)"
   ]
  },
  {
   "cell_type": "code",
   "execution_count": 61,
   "id": "1e0f3fec-431f-4446-b2b2-5695b2ac2963",
   "metadata": {},
   "outputs": [],
   "source": [
    "#X.info()"
   ]
  },
  {
   "cell_type": "code",
   "execution_count": 62,
   "id": "c88e210f-a191-45bc-848a-382619135601",
   "metadata": {},
   "outputs": [],
   "source": [
    "y = dataset.iloc[:, -1].values"
   ]
  },
  {
   "cell_type": "code",
   "execution_count": 63,
   "id": "f55cce3b-ceeb-410e-a042-9259d6c9386d",
   "metadata": {},
   "outputs": [
    {
     "name": "stdout",
     "output_type": "stream",
     "text": [
      "['Nein' 'Ja' 'Nein' 'Nein' 'Ja' 'Ja' 'Nein' 'Ja' 'Nein' 'Ja']\n"
     ]
    }
   ],
   "source": [
    "print(y)"
   ]
  },
  {
   "cell_type": "markdown",
   "id": "7bbf792f-4a68-4b5a-a6f7-d5845f05e4e3",
   "metadata": {},
   "source": [
    "## Fehlende Daten berücksichtigen"
   ]
  },
  {
   "cell_type": "code",
   "execution_count": 64,
   "id": "4c10cae1-1c83-4b85-a1c6-4dc59610f51b",
   "metadata": {},
   "outputs": [],
   "source": [
    "\n",
    "\n",
    "from sklearn.impute import SimpleImputer\n",
    "imputer = SimpleImputer(missing_values=np.nan, strategy='mean')\n",
    "imputer.fit(X[:, 1:3])\n",
    "X[:, 1:3] = imputer.transform(X[:, 1:3])"
   ]
  },
  {
   "cell_type": "code",
   "execution_count": 65,
   "id": "1e9d7e25-2841-4f77-aaed-2f073ec60781",
   "metadata": {},
   "outputs": [
    {
     "name": "stdout",
     "output_type": "stream",
     "text": [
      "[['Frankreich' 44.0 72000.0]\n",
      " ['Griechenland' 27.0 48000.0]\n",
      " ['Deutschland' 30.0 54000.0]\n",
      " ['Griechenland' 38.0 61000.0]\n",
      " ['Deutschland' 40.0 63777.77777777778]\n",
      " ['Frankreich' 35.0 58000.0]\n",
      " ['Griechenland' 38.77777777777778 52000.0]\n",
      " ['Frankreich' 48.0 79000.0]\n",
      " ['Deutschland' 50.0 83000.0]\n",
      " ['Frankreich' 37.0 67000.0]]\n"
     ]
    }
   ],
   "source": [
    "print(X)"
   ]
  },
  {
   "cell_type": "markdown",
   "id": "948f948b-04ba-4999-8ed9-ca5527cddae4",
   "metadata": {},
   "source": [
    "## Kategorien in den Daten kodieren"
   ]
  },
  {
   "cell_type": "markdown",
   "id": "5ac83733-9d96-4ba3-8f7c-97805ad4c64a",
   "metadata": {},
   "source": [
    "### Die unabhängigen Variablen kodieren (Länderspalte)"
   ]
  },
  {
   "cell_type": "code",
   "execution_count": 66,
   "id": "0c37f8f9-b038-40bb-8915-b14aa3b7a242",
   "metadata": {},
   "outputs": [],
   "source": [
    "\n",
    "from sklearn.compose import ColumnTransformer\n",
    "from sklearn.preprocessing import OneHotEncoder\n",
    "ct = ColumnTransformer(transformers=[('encoder', OneHotEncoder(), [0])], remainder='passthrough')\n",
    "X = np.array(ct.fit_transform(X))"
   ]
  },
  {
   "cell_type": "code",
   "execution_count": 67,
   "id": "07e529bc-82bf-4a81-806b-7ac9a0088255",
   "metadata": {},
   "outputs": [
    {
     "name": "stdout",
     "output_type": "stream",
     "text": [
      "[[0.0 1.0 0.0 44.0 72000.0]\n",
      " [0.0 0.0 1.0 27.0 48000.0]\n",
      " [1.0 0.0 0.0 30.0 54000.0]\n",
      " [0.0 0.0 1.0 38.0 61000.0]\n",
      " [1.0 0.0 0.0 40.0 63777.77777777778]\n",
      " [0.0 1.0 0.0 35.0 58000.0]\n",
      " [0.0 0.0 1.0 38.77777777777778 52000.0]\n",
      " [0.0 1.0 0.0 48.0 79000.0]\n",
      " [1.0 0.0 0.0 50.0 83000.0]\n",
      " [0.0 1.0 0.0 37.0 67000.0]]\n"
     ]
    }
   ],
   "source": [
    "print(X)"
   ]
  },
  {
   "cell_type": "markdown",
   "id": "9106826b-820b-4228-a273-13fc0eea542c",
   "metadata": {},
   "source": [
    "### Die abhängige Variable kodieren"
   ]
  },
  {
   "cell_type": "code",
   "execution_count": 69,
   "id": "b8ce7626-b038-49d4-b10f-696f9f080e0f",
   "metadata": {},
   "outputs": [],
   "source": [
    "\n",
    "\n",
    "from sklearn.preprocessing import LabelEncoder\n",
    "le = LabelEncoder()\n",
    "y = le.fit_transform(y)"
   ]
  },
  {
   "cell_type": "code",
   "execution_count": 70,
   "id": "cd0b1f24-4728-4a0c-b551-77b06724eaed",
   "metadata": {},
   "outputs": [
    {
     "name": "stdout",
     "output_type": "stream",
     "text": [
      "[1 0 1 1 0 0 1 0 1 0]\n"
     ]
    }
   ],
   "source": [
    "print(y)"
   ]
  },
  {
   "cell_type": "markdown",
   "id": "3da31d34-8206-46f3-938b-6f4a689cc3f6",
   "metadata": {},
   "source": [
    "## Daten aufteilen in Training- und Testset"
   ]
  },
  {
   "cell_type": "code",
   "execution_count": 71,
   "id": "060aa33a-a431-405b-9f4b-1f4b1df3643e",
   "metadata": {},
   "outputs": [],
   "source": [
    "\n",
    "\n",
    "from sklearn.model_selection import train_test_split\n",
    "X_train, X_test, y_train, y_test = train_test_split(X, y, test_size = 0.2, random_state = 1)"
   ]
  }
 ],
 "metadata": {
  "kernelspec": {
   "display_name": "Python 3 (ipykernel)",
   "language": "python",
   "name": "python3"
  },
  "language_info": {
   "codemirror_mode": {
    "name": "ipython",
    "version": 3
   },
   "file_extension": ".py",
   "mimetype": "text/x-python",
   "name": "python",
   "nbconvert_exporter": "python",
   "pygments_lexer": "ipython3",
   "version": "3.10.7"
  }
 },
 "nbformat": 4,
 "nbformat_minor": 5
}
