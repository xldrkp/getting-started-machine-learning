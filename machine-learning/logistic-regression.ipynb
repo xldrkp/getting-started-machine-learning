{
 "cells": [
  {
   "cell_type": "markdown",
   "id": "66221721-b720-49f2-b966-d38eead41a2c",
   "metadata": {},
   "source": [
    "# Logistische Regression\n",
    "\n",
    "Die logistische Regression ist eine Form der Regressionsanalyse, mit der Kriterien vorhergesagt werden können, die eindeutige Werte auf einer Skala haben. Beispiele dafür sind \"angenommen\" bzw. \"abgelehnt\" bei einer Aufnahmeprüfung (genau zwei Werte: binäre logistische Regression) oder \"angenommen\", \"abgelehnt\" oder \"Warteliste\" (mehrere Werte: multinominale logistische Regression).\n",
    "\n",
    "Das Ergebnis einer Vorhersage ist immer eine Wahrscheinlichkeit, mit der ein Kritierium erfüllt ist.\n",
    "\n",
    "Der theoretische Hintergrund der **Logistischen Regression** wird sehr gut [auf dieser Seite](https://studyflix.de/statistik/logistische-regression-2150) erklärt."
   ]
  },
  {
   "cell_type": "markdown",
   "id": "93c0716a-c1a7-46dc-af60-db1bc5c10949",
   "metadata": {},
   "source": [
    "## Bibliotheken importieren"
   ]
  },
  {
   "cell_type": "code",
   "execution_count": null,
   "id": "7b3860d1-50ef-4a4d-aa53-5bc46c785bc3",
   "metadata": {},
   "outputs": [],
   "source": [
    "import numpy as np\n",
    "import pandas as pd\n",
    "import matplotlib.pyplot as plt"
   ]
  },
  {
   "cell_type": "markdown",
   "id": "e8096864-a1f1-476b-9b5d-f85f1702c8a2",
   "metadata": {},
   "source": [
    "## Daten importieren"
   ]
  },
  {
   "cell_type": "code",
   "execution_count": null,
   "id": "4658fdac-fa0a-425a-9255-09a13bdc88b2",
   "metadata": {},
   "outputs": [],
   "source": [
    "dataset = pd.read_csv(\"data/Social_Network_Ads.csv\")"
   ]
  },
  {
   "cell_type": "markdown",
   "id": "407befa3-80b9-48fb-b1ba-561f39d8b399",
   "metadata": {},
   "source": [
    "Da dieses Datenset umfangreicher ist, werden nur die ersten Zeilen angezeigt."
   ]
  },
  {
   "cell_type": "code",
   "execution_count": null,
   "id": "e4f8b853-5e56-4a30-abf3-6a9388d08be2",
   "metadata": {},
   "outputs": [],
   "source": [
    "dataset.head()"
   ]
  },
  {
   "cell_type": "markdown",
   "id": "c9118096-1734-4681-9f66-1f440f6e51ba",
   "metadata": {},
   "source": [
    "## Featurematrix auswählen\n",
    "\n",
    "Zunächst werden die Features in einer Variable zusammengefasst, die einer **Matrix** entspricht."
   ]
  },
  {
   "cell_type": "code",
   "execution_count": null,
   "id": "6b90e5d9-a044-4a48-8ea8-aa207e80aab1",
   "metadata": {},
   "outputs": [],
   "source": [
    "X = dataset.iloc[:, :-1].values"
   ]
  },
  {
   "cell_type": "markdown",
   "id": "bd7b85e7-90ea-4c81-a017-19ede1e786e2",
   "metadata": {},
   "source": [
    "## Abhängigen Vektor bestimmen\n",
    "\n",
    "Anschließend wird die letzte Spalte als **Vektor** ausgewählt. Diese Werte sollen vorhergesagt werden."
   ]
  },
  {
   "cell_type": "code",
   "execution_count": null,
   "id": "49df8474-95c0-4009-8c24-b15d425c75dd",
   "metadata": {},
   "outputs": [],
   "source": [
    "y = dataset.iloc[:, -1].values"
   ]
  },
  {
   "cell_type": "markdown",
   "id": "6f033fec-49ed-46d1-a922-0f935c1a1703",
   "metadata": {},
   "source": [
    "## Daten aufteilen in Training- und Testset\n",
    "\n",
    "Für den eigentlichen Prozess des \"Maschinenlernens\" wird das Datenset in ein **Trainingsset** und ein **Testset** aufgeteilt."
   ]
  },
  {
   "cell_type": "code",
   "execution_count": null,
   "id": "1de14b50-b890-4c93-9e68-dd0d5f12febe",
   "metadata": {},
   "outputs": [],
   "source": [
    "from sklearn.model_selection import train_test_split\n",
    "X_train, X_test, y_train, y_test = train_test_split(X, y, test_size = 0.25, random_state = 1)"
   ]
  },
  {
   "cell_type": "code",
   "execution_count": null,
   "id": "cd363290-71de-43b3-afdb-559d47fc0c30",
   "metadata": {},
   "outputs": [],
   "source": [
    "print(X_train)"
   ]
  },
  {
   "cell_type": "code",
   "execution_count": null,
   "id": "a8f92184-19f3-4fdb-a5a7-ff58f26458b9",
   "metadata": {},
   "outputs": [],
   "source": [
    "print(X_test)"
   ]
  },
  {
   "cell_type": "code",
   "execution_count": null,
   "id": "6a0603de-25ab-45c7-a4a0-30bd5495c3be",
   "metadata": {},
   "outputs": [],
   "source": [
    "print(y_train)"
   ]
  },
  {
   "cell_type": "code",
   "execution_count": null,
   "id": "c4a6d26a-913d-46ba-a20d-9bbfab97b1ca",
   "metadata": {},
   "outputs": [],
   "source": [
    "print(y_test)"
   ]
  },
  {
   "cell_type": "markdown",
   "id": "6073d8aa-6131-4652-9e2b-3f6b9847f8fe",
   "metadata": {},
   "source": [
    "## Feature Scaling\n",
    "\n",
    "Das Feature Scaling ist für diese Anwendung nicht unbedingt notwendig, zum Üben kann es aber noch einmal durchgeführt werden. Dabei kommt wieder die Standardisierung zum Einsatz."
   ]
  },
  {
   "cell_type": "code",
   "execution_count": null,
   "id": "034807fc-d75d-4bc5-9b59-32fc9fd56223",
   "metadata": {},
   "outputs": [],
   "source": [
    "from sklearn.preprocessing import StandardScaler\n",
    "sc = StandardScaler()\n",
    "X_train = sc.fit_transform(X_train)\n",
    "X_test = sc.transform(X_test)"
   ]
  },
  {
   "cell_type": "code",
   "execution_count": null,
   "id": "0a369c64-a774-4dee-9b7f-9b7a1cf3a79e",
   "metadata": {},
   "outputs": [],
   "source": [
    "print(X_train)"
   ]
  },
  {
   "cell_type": "code",
   "execution_count": null,
   "id": "34665148-a3fc-4eb8-ae37-6d984815d236",
   "metadata": {},
   "outputs": [],
   "source": [
    "print(X_test)"
   ]
  },
  {
   "cell_type": "markdown",
   "id": "d011341e-7d10-434d-bc00-24841209e743",
   "metadata": {},
   "source": [
    "## Das Model trainieren"
   ]
  },
  {
   "cell_type": "code",
   "execution_count": null,
   "id": "4eb37259-8247-4a0f-8117-fcc39446fd17",
   "metadata": {},
   "outputs": [],
   "source": [
    "from sklearn.linear_model import LogisticRegression\n",
    "classifier = LogisticRegression(random_state = 0)\n",
    "classifier.fit(X_train, y_train)"
   ]
  },
  {
   "cell_type": "markdown",
   "id": "151d4862-90bd-466c-a8f0-92ed2238fd94",
   "metadata": {},
   "source": [
    "## Eine Vorhersage machen\n",
    "\n",
    "Wichtig: Für die Vorhersage müssen die Daten an die neue Skala angepasst werden!"
   ]
  },
  {
   "cell_type": "code",
   "execution_count": null,
   "id": "0631a963-eacf-41da-879d-a2bb347f9add",
   "metadata": {},
   "outputs": [],
   "source": [
    "classifier.predict(sc.transform([[30,87000]]))"
   ]
  },
  {
   "cell_type": "markdown",
   "id": "a3311b7c-ef59-486f-8b72-06c471c865bf",
   "metadata": {},
   "source": [
    "## Die Testergebnisse vorhersagen"
   ]
  },
  {
   "cell_type": "code",
   "execution_count": null,
   "id": "df710026-1bd6-45b2-b226-697b53225e22",
   "metadata": {},
   "outputs": [],
   "source": [
    "y_pred = classifier.predict(X_test)\n",
    "print(np.concatenate((y_pred.reshape(len(y_pred),1), y_test.reshape(len(y_pred),1)), 1))"
   ]
  },
  {
   "cell_type": "markdown",
   "id": "085cb13a-a5f6-4097-b577-5032c82d0990",
   "metadata": {},
   "source": [
    "## Confusion Matrix ausgeben"
   ]
  },
  {
   "cell_type": "code",
   "execution_count": null,
   "id": "7675b4d9-59d9-46b0-87c8-86cb4661ef68",
   "metadata": {},
   "outputs": [],
   "source": [
    "from sklearn.metrics import confusion_matrix, accuracy_score\n",
    "cm = confusion_matrix(y_test, y_pred)\n",
    "print(cm)\n",
    "# Die Rate der korrekten Vorhersagen\n",
    "accuracy_score(y_test, y_pred)"
   ]
  }
 ],
 "metadata": {
  "kernelspec": {
   "display_name": "ludwig",
   "language": "python",
   "name": "ludwig"
  },
  "language_info": {
   "codemirror_mode": {
    "name": "ipython",
    "version": 3
   },
   "file_extension": ".py",
   "mimetype": "text/x-python",
   "name": "python",
   "nbconvert_exporter": "python",
   "pygments_lexer": "ipython3",
   "version": "3.9.1"
  }
 },
 "nbformat": 4,
 "nbformat_minor": 5
}
