{
 "cells": [
  {
   "cell_type": "markdown",
   "id": "8b91c263-d057-4e28-a5a2-2554f13c2543",
   "metadata": {},
   "source": [
    "# Multiple lineare Regression"
   ]
  }
 ],
 "metadata": {
  "kernelspec": {
   "display_name": "ludwig",
   "language": "python",
   "name": "ludwig"
  },
  "language_info": {
   "codemirror_mode": {
    "name": "ipython",
    "version": 3
   },
   "file_extension": ".py",
   "mimetype": "text/x-python",
   "name": "python",
   "nbconvert_exporter": "python",
   "pygments_lexer": "ipython3",
   "version": "3.9.1"
  }
 },
 "nbformat": 4,
 "nbformat_minor": 5
}
