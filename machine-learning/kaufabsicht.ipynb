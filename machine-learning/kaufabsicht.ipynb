{
 "cells": [
  {
   "cell_type": "markdown",
   "id": "993a4065-8d2d-4dc5-8862-48d72bc4f587",
   "metadata": {},
   "source": [
    "# Kaufabsicht vorhersagen\n",
    "\n",
    "Der folgende Code vervollständigt das Beispiel aus dem Abschnitt [Daten vorbereiten](preprocessing.ipynb), in dem die Kaufabsicht von Klient\\*innen vorhergesagt werden soll."
   ]
  },
  {
   "cell_type": "markdown",
   "id": "9d06745f-4a2d-460a-b5c0-04489d0602cb",
   "metadata": {},
   "source": [
    "## Bibliotheken installieren\n",
    "\n",
    "Führen Sie die folgende Zelle aus, um zu überprüfen, dass alle notwendigen Bibliotheken installiert sind."
   ]
  },
  {
   "cell_type": "code",
   "execution_count": 128,
   "id": "00cfe800-a8c4-4f11-815d-364704b633e4",
   "metadata": {},
   "outputs": [],
   "source": [
    "!pip install scikit-learn\n",
    "!pip install numpy\n",
    "!pip install pandas\n",
    "!pip install matplotlib"
   ]
  },
  {
   "cell_type": "markdown",
   "id": "ade68fec-79c9-4e4d-9a3a-1f386df6194c",
   "metadata": {},
   "source": [
    "## Bibliotheken importieren\n",
    "\n",
    "Die folgenden Bibliotheken brauchen Sie für die meisten Aufgaben. Ihr Import steht daher meistens am Anfang Ihrer Programme oder Notebooks."
   ]
  },
  {
   "cell_type": "code",
   "execution_count": 129,
   "id": "2aa23dd7-8f97-49f2-804f-99b5dc364bfa",
   "metadata": {},
   "outputs": [],
   "source": [
    "import numpy as np\n",
    "import matplotlib.pyplot as plt\n",
    "import pandas as pd"
   ]
  },
  {
   "cell_type": "markdown",
   "id": "67d085fc-9d6f-4240-afa0-56d6e7fee6fd",
   "metadata": {},
   "source": [
    "## Daten importieren"
   ]
  },
  {
   "cell_type": "markdown",
   "id": "e41df6c2-4a3e-4e55-b7a9-6f729adcf010",
   "metadata": {},
   "source": [
    "Die Daten, die in diesem Beispiel als CSV-Datei vorliegen, wird mithilfe von *pandas* importiert."
   ]
  },
  {
   "cell_type": "code",
   "execution_count": 130,
   "id": "eb6a8cc9-105b-45fb-85f8-538486132cfc",
   "metadata": {},
   "outputs": [],
   "source": [
    "df = pd.read_csv(\"data/dataset.csv\")"
   ]
  },
  {
   "cell_type": "markdown",
   "id": "2ef646ab-46c0-4fd9-b340-874a871cfaae",
   "metadata": {},
   "source": [
    "Das geladene Datenset kann hier im Notebook angezeigt werden."
   ]
  },
  {
   "cell_type": "code",
   "execution_count": 131,
   "id": "ffffebf8-fb70-44aa-9124-cbf5bdad4328",
   "metadata": {},
   "outputs": [
    {
     "data": {
      "text/html": [
       "<div>\n",
       "<style scoped>\n",
       "    .dataframe tbody tr th:only-of-type {\n",
       "        vertical-align: middle;\n",
       "    }\n",
       "\n",
       "    .dataframe tbody tr th {\n",
       "        vertical-align: top;\n",
       "    }\n",
       "\n",
       "    .dataframe thead th {\n",
       "        text-align: right;\n",
       "    }\n",
       "</style>\n",
       "<table border=\"1\" class=\"dataframe\">\n",
       "  <thead>\n",
       "    <tr style=\"text-align: right;\">\n",
       "      <th></th>\n",
       "      <th>Land</th>\n",
       "      <th>Alter</th>\n",
       "      <th>Gehalt</th>\n",
       "      <th>gekauft</th>\n",
       "    </tr>\n",
       "  </thead>\n",
       "  <tbody>\n",
       "    <tr>\n",
       "      <th>0</th>\n",
       "      <td>Frankreich</td>\n",
       "      <td>44.0</td>\n",
       "      <td>72000.0</td>\n",
       "      <td>Nein</td>\n",
       "    </tr>\n",
       "    <tr>\n",
       "      <th>1</th>\n",
       "      <td>Griechenland</td>\n",
       "      <td>27.0</td>\n",
       "      <td>48000.0</td>\n",
       "      <td>Ja</td>\n",
       "    </tr>\n",
       "    <tr>\n",
       "      <th>2</th>\n",
       "      <td>Deutschland</td>\n",
       "      <td>30.0</td>\n",
       "      <td>54000.0</td>\n",
       "      <td>Nein</td>\n",
       "    </tr>\n",
       "    <tr>\n",
       "      <th>3</th>\n",
       "      <td>Griechenland</td>\n",
       "      <td>38.0</td>\n",
       "      <td>61000.0</td>\n",
       "      <td>Nein</td>\n",
       "    </tr>\n",
       "    <tr>\n",
       "      <th>4</th>\n",
       "      <td>Deutschland</td>\n",
       "      <td>40.0</td>\n",
       "      <td>NaN</td>\n",
       "      <td>Ja</td>\n",
       "    </tr>\n",
       "    <tr>\n",
       "      <th>5</th>\n",
       "      <td>Frankreich</td>\n",
       "      <td>35.0</td>\n",
       "      <td>58000.0</td>\n",
       "      <td>Ja</td>\n",
       "    </tr>\n",
       "    <tr>\n",
       "      <th>6</th>\n",
       "      <td>Griechenland</td>\n",
       "      <td>NaN</td>\n",
       "      <td>52000.0</td>\n",
       "      <td>Nein</td>\n",
       "    </tr>\n",
       "    <tr>\n",
       "      <th>7</th>\n",
       "      <td>Frankreich</td>\n",
       "      <td>48.0</td>\n",
       "      <td>79000.0</td>\n",
       "      <td>Ja</td>\n",
       "    </tr>\n",
       "    <tr>\n",
       "      <th>8</th>\n",
       "      <td>Deutschland</td>\n",
       "      <td>50.0</td>\n",
       "      <td>83000.0</td>\n",
       "      <td>Nein</td>\n",
       "    </tr>\n",
       "    <tr>\n",
       "      <th>9</th>\n",
       "      <td>Frankreich</td>\n",
       "      <td>37.0</td>\n",
       "      <td>67000.0</td>\n",
       "      <td>Ja</td>\n",
       "    </tr>\n",
       "  </tbody>\n",
       "</table>\n",
       "</div>"
      ],
      "text/plain": [
       "           Land  Alter   Gehalt gekauft\n",
       "0    Frankreich   44.0  72000.0    Nein\n",
       "1  Griechenland   27.0  48000.0      Ja\n",
       "2   Deutschland   30.0  54000.0    Nein\n",
       "3  Griechenland   38.0  61000.0    Nein\n",
       "4   Deutschland   40.0      NaN      Ja\n",
       "5    Frankreich   35.0  58000.0      Ja\n",
       "6  Griechenland    NaN  52000.0    Nein\n",
       "7    Frankreich   48.0  79000.0      Ja\n",
       "8   Deutschland   50.0  83000.0    Nein\n",
       "9    Frankreich   37.0  67000.0      Ja"
      ]
     },
     "execution_count": 131,
     "metadata": {},
     "output_type": "execute_result"
    }
   ],
   "source": [
    "df"
   ]
  },
  {
   "cell_type": "markdown",
   "id": "b8a901e5-cc08-4335-b06d-6e88762ffea0",
   "metadata": {},
   "source": [
    "## Featurematrix auswählen\n",
    "\n",
    "Zunächst werden die Features in einer Variable zusammengefasst, die einer **Matrix** entspricht."
   ]
  },
  {
   "cell_type": "code",
   "execution_count": 132,
   "id": "1eb5c7f9-1cca-41b2-bd9b-e9e441d79f5e",
   "metadata": {},
   "outputs": [],
   "source": [
    "X = df.iloc[:, :-1].values"
   ]
  },
  {
   "cell_type": "code",
   "execution_count": 133,
   "id": "d11b027b-7f59-4abd-bb79-b9264c3d824a",
   "metadata": {},
   "outputs": [],
   "source": [
    "y = df.iloc[:, -1].values"
   ]
  },
  {
   "cell_type": "code",
   "execution_count": 134,
   "id": "140d2512-a078-45a3-85c6-98d5d8aee548",
   "metadata": {},
   "outputs": [
    {
     "name": "stdout",
     "output_type": "stream",
     "text": [
      "[['Frankreich' 44.0 72000.0]\n",
      " ['Griechenland' 27.0 48000.0]\n",
      " ['Deutschland' 30.0 54000.0]\n",
      " ['Griechenland' 38.0 61000.0]\n",
      " ['Deutschland' 40.0 nan]\n",
      " ['Frankreich' 35.0 58000.0]\n",
      " ['Griechenland' nan 52000.0]\n",
      " ['Frankreich' 48.0 79000.0]\n",
      " ['Deutschland' 50.0 83000.0]\n",
      " ['Frankreich' 37.0 67000.0]]\n"
     ]
    }
   ],
   "source": [
    "print(X)"
   ]
  },
  {
   "cell_type": "code",
   "execution_count": 135,
   "id": "e4f20279-6a29-4dec-bc7d-244fbfcdaaf5",
   "metadata": {},
   "outputs": [
    {
     "name": "stdout",
     "output_type": "stream",
     "text": [
      "['Nein' 'Ja' 'Nein' 'Nein' 'Ja' 'Ja' 'Nein' 'Ja' 'Nein' 'Ja']\n"
     ]
    }
   ],
   "source": [
    "print(y)"
   ]
  },
  {
   "cell_type": "markdown",
   "id": "dcf5616a-8f9e-479f-9f4d-83303532cce6",
   "metadata": {},
   "source": [
    "## Fehlende Daten berücksichtigen\n",
    "\n",
    "Wenn wenige Daten fehlen, können diese Datensätze in der Regel ignoriert bzw. entfernt werden. Fehlen in vielen Datensätzen Daten, gibt es verschiedene Strategien, diese zu ersetzen. Eine davon ist, den Mittelwert aus den vorhandenen Daten zu bilden. Hierfür stellt *scikit-learn* ein Verfahren zur Verfügung."
   ]
  },
  {
   "cell_type": "code",
   "execution_count": 136,
   "id": "f1fbfe0f-abe7-485e-9108-b9aa23602d50",
   "metadata": {},
   "outputs": [],
   "source": [
    "from sklearn.impute import SimpleImputer\n",
    "imputer = SimpleImputer(missing_values=np.nan, strategy='mean')\n",
    "imputer.fit(X[:, 1:3])\n",
    "X[:, 1:3] = imputer.transform(X[:, 1:3])"
   ]
  },
  {
   "cell_type": "code",
   "execution_count": 137,
   "id": "57096c0b-d3dd-4ab6-9563-07ac2080d4b3",
   "metadata": {},
   "outputs": [
    {
     "name": "stdout",
     "output_type": "stream",
     "text": [
      "[['Frankreich' 44.0 72000.0]\n",
      " ['Griechenland' 27.0 48000.0]\n",
      " ['Deutschland' 30.0 54000.0]\n",
      " ['Griechenland' 38.0 61000.0]\n",
      " ['Deutschland' 40.0 63777.77777777778]\n",
      " ['Frankreich' 35.0 58000.0]\n",
      " ['Griechenland' 38.77777777777778 52000.0]\n",
      " ['Frankreich' 48.0 79000.0]\n",
      " ['Deutschland' 50.0 83000.0]\n",
      " ['Frankreich' 37.0 67000.0]]\n"
     ]
    }
   ],
   "source": [
    "print(X)"
   ]
  },
  {
   "cell_type": "markdown",
   "id": "10921d64-d3ac-42ad-b3a0-1636f39bccc4",
   "metadata": {},
   "source": [
    ":::{.callout-tip}\n",
    "### Aufgabe\n",
    "Recherchieren Sie verwendeten Klassen und Methoden [in der Dokumentation von *scikit-learn*](https://scikit-learn.org/stable/index.html).\n",
    "\n",
    ":::"
   ]
  },
  {
   "cell_type": "markdown",
   "id": "3849ab02-845d-40f8-bf80-9187bf137e73",
   "metadata": {},
   "source": [
    "## Kategorien in den Daten kodieren\n",
    "\n",
    "Damit der Algorithmus die Daten schnell und eindeutig verarbeiten kann, müssen Textwerte als Zahlenwerte kodiert werden, hier also die Länder. Ein gängiges Verfahren ist hierbei, binäre Vektoren aus den möglichen Kombinationen der Kategorien zu erstellen. Bei diesem Vorgehen werden neue Spalten angelegt, die diese Vektoren abbilden. [Lesen Sie hierzu auch den Artikel über **One Hot Encoding**, wie dieses Verfahren genannt wird](https://www.educative.io/blog/one-hot-encoding).\n",
    "\n",
    "Da im vorliegenden Datenset sowohl in den unabhängigen als auch in der abhängigen Variable kategorische Daten vorliegen, ist der Vorgang zweimal notwendig."
   ]
  },
  {
   "cell_type": "markdown",
   "id": "3b32d713-e01b-4480-bc9b-c716711445d7",
   "metadata": {},
   "source": [
    "### Die unabhängige Variable kodieren\n",
    "\n",
    "Auch hierfür werden wieder Methoden von *scikit-learn* verwendet."
   ]
  },
  {
   "cell_type": "code",
   "execution_count": 138,
   "id": "02bdf6a8-6a62-4762-ac2e-d5dc27d3d78e",
   "metadata": {},
   "outputs": [],
   "source": [
    "from sklearn.compose import ColumnTransformer\n",
    "from sklearn.preprocessing import OneHotEncoder\n",
    "ct = ColumnTransformer(transformers=[('encoder', OneHotEncoder(), [0])], remainder='passthrough')\n",
    "X = np.array(ct.fit_transform(X))"
   ]
  },
  {
   "cell_type": "code",
   "execution_count": 139,
   "id": "4a1d83db-e0e7-4c30-a019-4ee64eef5a40",
   "metadata": {},
   "outputs": [
    {
     "name": "stdout",
     "output_type": "stream",
     "text": [
      "ColumnTransformer(remainder='passthrough',\n",
      "                  transformers=[('encoder', OneHotEncoder(), [0])])\n"
     ]
    }
   ],
   "source": [
    "print(ct)"
   ]
  },
  {
   "cell_type": "code",
   "execution_count": 140,
   "id": "6b246d50-c3ac-4fd3-adb3-3ff4e734806f",
   "metadata": {},
   "outputs": [
    {
     "name": "stdout",
     "output_type": "stream",
     "text": [
      "[[0.0 1.0 0.0 44.0 72000.0]\n",
      " [0.0 0.0 1.0 27.0 48000.0]\n",
      " [1.0 0.0 0.0 30.0 54000.0]\n",
      " [0.0 0.0 1.0 38.0 61000.0]\n",
      " [1.0 0.0 0.0 40.0 63777.77777777778]\n",
      " [0.0 1.0 0.0 35.0 58000.0]\n",
      " [0.0 0.0 1.0 38.77777777777778 52000.0]\n",
      " [0.0 1.0 0.0 48.0 79000.0]\n",
      " [1.0 0.0 0.0 50.0 83000.0]\n",
      " [0.0 1.0 0.0 37.0 67000.0]]\n"
     ]
    }
   ],
   "source": [
    "print(X)"
   ]
  },
  {
   "cell_type": "markdown",
   "id": "dec751a5-295f-4c9f-a375-da4266138612",
   "metadata": {},
   "source": [
    "### Die abhängige Variable kodieren\n",
    "\n",
    "Da die Werte der abhängigen Variablen binär abgebildet werden können, ist hier One-Hot-Encoding nicht notwendig. "
   ]
  },
  {
   "cell_type": "code",
   "execution_count": 141,
   "id": "dbfe353c-9298-4060-9338-71383de2663d",
   "metadata": {},
   "outputs": [],
   "source": [
    "from sklearn.preprocessing import LabelEncoder\n",
    "le = LabelEncoder()\n",
    "y = le.fit_transform(y)"
   ]
  },
  {
   "cell_type": "code",
   "execution_count": 142,
   "id": "82380f3c-6fc2-4b2d-9c7a-dc187c011a72",
   "metadata": {},
   "outputs": [
    {
     "name": "stdout",
     "output_type": "stream",
     "text": [
      "[1 0 1 1 0 0 1 0 1 0]\n"
     ]
    }
   ],
   "source": [
    "print(y)"
   ]
  },
  {
   "cell_type": "markdown",
   "id": "bca72d9e-69df-4e49-b197-8f3b327bd2d9",
   "metadata": {},
   "source": [
    "## Daten aufteilen in Training- und Testset\n",
    "\n",
    "Für den eigentlichen Prozess des \"Maschinenlernens\" wird das Datenset in ein **Trainingsset** und ein **Testset** aufgeteilt.\n",
    "\n",
    "Mit dem Trainingsset wird das Machine-Learning-Modell trainiert, mit dem Testset wird die Vorhersagegüte des Modells getestet. Hierbei wird so getan, als ob es sich bei den Testdaten um zukünftige reale Daten handelt."
   ]
  },
  {
   "cell_type": "markdown",
   "id": "0d0ccd65-fa59-42d5-bb18-696595b7b580",
   "metadata": {},
   "source": [
    "*scikit-learn* stellt auch hierfür ein Verfahren bereit."
   ]
  },
  {
   "cell_type": "code",
   "execution_count": 143,
   "id": "98739593-68ec-417b-8731-c6716e577c9e",
   "metadata": {},
   "outputs": [],
   "source": [
    "from sklearn.model_selection import train_test_split\n",
    "X_train, X_test, y_train, y_test = train_test_split(X, y, test_size = 0.3, random_state = 0)"
   ]
  },
  {
   "cell_type": "code",
   "execution_count": 144,
   "id": "c607537e-ed75-43fd-9b97-b2fc45a53ab3",
   "metadata": {},
   "outputs": [
    {
     "name": "stdout",
     "output_type": "stream",
     "text": [
      "[[0.0 1.0 0.0 37.0 67000.0]\n",
      " [0.0 0.0 1.0 27.0 48000.0]\n",
      " [0.0 0.0 1.0 38.77777777777778 52000.0]\n",
      " [0.0 1.0 0.0 48.0 79000.0]\n",
      " [0.0 0.0 1.0 38.0 61000.0]\n",
      " [0.0 1.0 0.0 44.0 72000.0]\n",
      " [0.0 1.0 0.0 35.0 58000.0]]\n"
     ]
    }
   ],
   "source": [
    "print(X_train)"
   ]
  },
  {
   "cell_type": "code",
   "execution_count": 145,
   "id": "acb3ec09-1180-4453-a20b-57f838d56a10",
   "metadata": {},
   "outputs": [
    {
     "name": "stdout",
     "output_type": "stream",
     "text": [
      "[[1.0 0.0 0.0 30.0 54000.0]\n",
      " [1.0 0.0 0.0 50.0 83000.0]\n",
      " [1.0 0.0 0.0 40.0 63777.77777777778]]\n"
     ]
    }
   ],
   "source": [
    "print(X_test)"
   ]
  },
  {
   "cell_type": "code",
   "execution_count": 146,
   "id": "59e03c0c-3a84-4ef0-8be3-81235c2368b6",
   "metadata": {},
   "outputs": [
    {
     "name": "stdout",
     "output_type": "stream",
     "text": [
      "[0 0 1 0 1 1 0]\n"
     ]
    }
   ],
   "source": [
    "print(y_train)"
   ]
  },
  {
   "cell_type": "code",
   "execution_count": 147,
   "id": "3bfba28f-505d-4210-8f5b-1f73d5e48496",
   "metadata": {},
   "outputs": [
    {
     "name": "stdout",
     "output_type": "stream",
     "text": [
      "[1 1 0]\n"
     ]
    }
   ],
   "source": [
    "print(y_test)"
   ]
  },
  {
   "cell_type": "markdown",
   "id": "18453935-f743-4896-926b-76179df7428c",
   "metadata": {},
   "source": [
    "## Feature Scaling\n",
    "\n",
    "Feature Scaling ist die Anpassung der unabhängigen Daten in einer Weise, dass sie alle im gleichen Verhältnis zueinander stehen. Dadurch wird vermieden, dass ein Feature andere Features dominiert. \n",
    "\n",
    "**Wichtig: Feature Scaling wird immer erst nach der Aufteilung des Datensets durchgeführt! Damit wird Informationsverlust bei den Testdaten vermieden.**"
   ]
  },
  {
   "cell_type": "code",
   "execution_count": 148,
   "id": "d8efb40e-52fd-4295-9089-d47d012c1f81",
   "metadata": {},
   "outputs": [
    {
     "data": {
      "text/plain": [
       "array([[30.0, 54000.0],\n",
       "       [50.0, 83000.0],\n",
       "       [40.0, 63777.77777777778]], dtype=object)"
      ]
     },
     "execution_count": 148,
     "metadata": {},
     "output_type": "execute_result"
    }
   ],
   "source": [
    "X_test[:, 3:]"
   ]
  },
  {
   "cell_type": "code",
   "execution_count": 149,
   "id": "30299ff2-2a23-44c1-82af-bc2384bc370a",
   "metadata": {},
   "outputs": [],
   "source": [
    "from sklearn.preprocessing import StandardScaler\n",
    "sc = StandardScaler()\n",
    "X_train[:, 3:] = sc.fit_transform(X_train[:, 3:])\n",
    "X_test[:, 3:] = sc.transform(X_test[:, 3:])"
   ]
  },
  {
   "cell_type": "code",
   "execution_count": 150,
   "id": "b43155b0-8aeb-4cc7-a2b2-fe2d9d7aac2a",
   "metadata": {},
   "outputs": [
    {
     "name": "stdout",
     "output_type": "stream",
     "text": [
      "[[0.0 1.0 0.0 -0.2029809015697542 0.44897082661305115]\n",
      " [0.0 0.0 1.0 -1.821689357126023 -1.4170641714974423]\n",
      " [0.0 0.0 1.0 0.08478949052913817 -1.0242146982110225]\n",
      " [0.0 1.0 0.0 1.5775983995421416 1.62751924647231]\n",
      " [0.0 0.0 1.0 -0.041110056014127316 -0.14030338331657835]\n",
      " [0.0 1.0 0.0 0.930115017319634 0.9400326682210757]\n",
      " [0.0 1.0 0.0 -0.526722592681008 -0.4349404882813931]]\n"
     ]
    }
   ],
   "source": [
    "print(X_train)"
   ]
  },
  {
   "cell_type": "code",
   "execution_count": 151,
   "id": "43635b3b-84d0-4d03-9c62-5b064546263f",
   "metadata": {},
   "outputs": [
    {
     "name": "stdout",
     "output_type": "stream",
     "text": [
      "[[1.0 0.0 0.0 -1.3360768204591424 -0.8277899615678128]\n",
      " [1.0 0.0 0.0 1.9013400906533953 2.02036871975873]\n",
      " [1.0 0.0 0.0 0.28263163509712647 0.13250875091010228]]\n"
     ]
    }
   ],
   "source": [
    "print(X_test)"
   ]
  },
  {
   "cell_type": "markdown",
   "id": "ec9c1a27-4fd4-4a7e-9e0a-34dedfb5b059",
   "metadata": {},
   "source": [
    "## Trainieren des Modells"
   ]
  },
  {
   "cell_type": "code",
   "execution_count": 152,
   "id": "0320c554-1cca-40dc-9b3d-17ef1e35b4ef",
   "metadata": {},
   "outputs": [
    {
     "data": {
      "text/html": [
       "<style>#sk-container-id-4 {color: black;background-color: white;}#sk-container-id-4 pre{padding: 0;}#sk-container-id-4 div.sk-toggleable {background-color: white;}#sk-container-id-4 label.sk-toggleable__label {cursor: pointer;display: block;width: 100%;margin-bottom: 0;padding: 0.3em;box-sizing: border-box;text-align: center;}#sk-container-id-4 label.sk-toggleable__label-arrow:before {content: \"▸\";float: left;margin-right: 0.25em;color: #696969;}#sk-container-id-4 label.sk-toggleable__label-arrow:hover:before {color: black;}#sk-container-id-4 div.sk-estimator:hover label.sk-toggleable__label-arrow:before {color: black;}#sk-container-id-4 div.sk-toggleable__content {max-height: 0;max-width: 0;overflow: hidden;text-align: left;background-color: #f0f8ff;}#sk-container-id-4 div.sk-toggleable__content pre {margin: 0.2em;color: black;border-radius: 0.25em;background-color: #f0f8ff;}#sk-container-id-4 input.sk-toggleable__control:checked~div.sk-toggleable__content {max-height: 200px;max-width: 100%;overflow: auto;}#sk-container-id-4 input.sk-toggleable__control:checked~label.sk-toggleable__label-arrow:before {content: \"▾\";}#sk-container-id-4 div.sk-estimator input.sk-toggleable__control:checked~label.sk-toggleable__label {background-color: #d4ebff;}#sk-container-id-4 div.sk-label input.sk-toggleable__control:checked~label.sk-toggleable__label {background-color: #d4ebff;}#sk-container-id-4 input.sk-hidden--visually {border: 0;clip: rect(1px 1px 1px 1px);clip: rect(1px, 1px, 1px, 1px);height: 1px;margin: -1px;overflow: hidden;padding: 0;position: absolute;width: 1px;}#sk-container-id-4 div.sk-estimator {font-family: monospace;background-color: #f0f8ff;border: 1px dotted black;border-radius: 0.25em;box-sizing: border-box;margin-bottom: 0.5em;}#sk-container-id-4 div.sk-estimator:hover {background-color: #d4ebff;}#sk-container-id-4 div.sk-parallel-item::after {content: \"\";width: 100%;border-bottom: 1px solid gray;flex-grow: 1;}#sk-container-id-4 div.sk-label:hover label.sk-toggleable__label {background-color: #d4ebff;}#sk-container-id-4 div.sk-serial::before {content: \"\";position: absolute;border-left: 1px solid gray;box-sizing: border-box;top: 0;bottom: 0;left: 50%;z-index: 0;}#sk-container-id-4 div.sk-serial {display: flex;flex-direction: column;align-items: center;background-color: white;padding-right: 0.2em;padding-left: 0.2em;position: relative;}#sk-container-id-4 div.sk-item {position: relative;z-index: 1;}#sk-container-id-4 div.sk-parallel {display: flex;align-items: stretch;justify-content: center;background-color: white;position: relative;}#sk-container-id-4 div.sk-item::before, #sk-container-id-4 div.sk-parallel-item::before {content: \"\";position: absolute;border-left: 1px solid gray;box-sizing: border-box;top: 0;bottom: 0;left: 50%;z-index: -1;}#sk-container-id-4 div.sk-parallel-item {display: flex;flex-direction: column;z-index: 1;position: relative;background-color: white;}#sk-container-id-4 div.sk-parallel-item:first-child::after {align-self: flex-end;width: 50%;}#sk-container-id-4 div.sk-parallel-item:last-child::after {align-self: flex-start;width: 50%;}#sk-container-id-4 div.sk-parallel-item:only-child::after {width: 0;}#sk-container-id-4 div.sk-dashed-wrapped {border: 1px dashed gray;margin: 0 0.4em 0.5em 0.4em;box-sizing: border-box;padding-bottom: 0.4em;background-color: white;}#sk-container-id-4 div.sk-label label {font-family: monospace;font-weight: bold;display: inline-block;line-height: 1.2em;}#sk-container-id-4 div.sk-label-container {text-align: center;}#sk-container-id-4 div.sk-container {/* jupyter's `normalize.less` sets `[hidden] { display: none; }` but bootstrap.min.css set `[hidden] { display: none !important; }` so we also need the `!important` here to be able to override the default hidden behavior on the sphinx rendered scikit-learn.org. See: https://github.com/scikit-learn/scikit-learn/issues/21755 */display: inline-block !important;position: relative;}#sk-container-id-4 div.sk-text-repr-fallback {display: none;}</style><div id=\"sk-container-id-4\" class=\"sk-top-container\"><div class=\"sk-text-repr-fallback\"><pre>LogisticRegression(random_state=0)</pre><b>In a Jupyter environment, please rerun this cell to show the HTML representation or trust the notebook. <br />On GitHub, the HTML representation is unable to render, please try loading this page with nbviewer.org.</b></div><div class=\"sk-container\" hidden><div class=\"sk-item\"><div class=\"sk-estimator sk-toggleable\"><input class=\"sk-toggleable__control sk-hidden--visually\" id=\"sk-estimator-id-4\" type=\"checkbox\" checked><label for=\"sk-estimator-id-4\" class=\"sk-toggleable__label sk-toggleable__label-arrow\">LogisticRegression</label><div class=\"sk-toggleable__content\"><pre>LogisticRegression(random_state=0)</pre></div></div></div></div></div>"
      ],
      "text/plain": [
       "LogisticRegression(random_state=0)"
      ]
     },
     "execution_count": 152,
     "metadata": {},
     "output_type": "execute_result"
    }
   ],
   "source": [
    "from sklearn.linear_model import LogisticRegression\n",
    "classifier = LogisticRegression(random_state = 0)\n",
    "classifier.fit(X_train, y_train)"
   ]
  },
  {
   "cell_type": "markdown",
   "id": "42ff7b82-b716-4aa4-88aa-6d2883e420ae",
   "metadata": {},
   "source": [
    "## Eine Vorhersage mit neuen Daten machen"
   ]
  },
  {
   "cell_type": "markdown",
   "id": "a982ec57-5706-4444-a940-15563466fa02",
   "metadata": {},
   "source": [
    "Einen neuen Datensatz erstellen:"
   ]
  },
  {
   "cell_type": "code",
   "execution_count": 153,
   "id": "c6645c49-3de2-4f8d-b7c3-746f88d9fb7d",
   "metadata": {},
   "outputs": [],
   "source": [
    "new_data = [0.0, 0.0, 1.0, 39, 160000]"
   ]
  },
  {
   "cell_type": "markdown",
   "id": "9591227e-f4ed-4f2c-ba0c-27e6b2a93259",
   "metadata": {},
   "source": [
    "Den Datensatz zum richtigen Typ wandeln und in die richtige Form bringen:"
   ]
  },
  {
   "cell_type": "code",
   "execution_count": 154,
   "id": "d0f3795f-d0a7-475d-8cf4-8e263c4cb7dc",
   "metadata": {},
   "outputs": [
    {
     "data": {
      "text/plain": [
       "array([[0.0e+00, 0.0e+00, 1.0e+00, 3.9e+01, 1.6e+05]])"
      ]
     },
     "execution_count": 154,
     "metadata": {},
     "output_type": "execute_result"
    }
   ],
   "source": [
    "new_data = np.array(new_data).reshape(1, -1)\n",
    "new_data"
   ]
  },
  {
   "cell_type": "markdown",
   "id": "488755cf-8b81-4cb5-b1b5-08093d317cbf",
   "metadata": {},
   "source": [
    "Das Segment ausgeben, das skaliert werden soll:"
   ]
  },
  {
   "cell_type": "code",
   "execution_count": 155,
   "id": "defe7ae1-700c-4d99-87b2-2e240be2e624",
   "metadata": {},
   "outputs": [
    {
     "data": {
      "text/plain": [
       "array([[3.9e+01, 1.6e+05]])"
      ]
     },
     "execution_count": 155,
     "metadata": {},
     "output_type": "execute_result"
    }
   ],
   "source": [
    "new_data[:, 3:]"
   ]
  },
  {
   "cell_type": "markdown",
   "id": "6ac0ec4a-12df-4bb4-946f-6549a06dba14",
   "metadata": {},
   "source": [
    "Die Transformation auf das Segment anwenden und zurückschreiben:"
   ]
  },
  {
   "cell_type": "code",
   "execution_count": 156,
   "id": "1d58fabc-f48a-48a5-ae18-f31aa56f5072",
   "metadata": {},
   "outputs": [
    {
     "data": {
      "text/plain": [
       "array([[0.  , 0.  , 1.  , 0.12, 9.58]])"
      ]
     },
     "execution_count": 156,
     "metadata": {},
     "output_type": "execute_result"
    }
   ],
   "source": [
    "new_data[:, 3:] = sc.transform(new_data[:, 3:])\n",
    "new_data"
   ]
  },
  {
   "cell_type": "markdown",
   "id": "f5a7f63b-16ba-4791-b1de-25f6927a9a33",
   "metadata": {},
   "source": [
    "Die Vorhersage machen:"
   ]
  },
  {
   "cell_type": "code",
   "execution_count": 157,
   "id": "8a7f9f1f-a165-426c-94b6-33f7c14a4689",
   "metadata": {},
   "outputs": [
    {
     "data": {
      "text/plain": [
       "array([0])"
      ]
     },
     "execution_count": 157,
     "metadata": {},
     "output_type": "execute_result"
    }
   ],
   "source": [
    "classifier.predict(new_data)"
   ]
  },
  {
   "cell_type": "markdown",
   "id": "6665c0fe-3ff4-418d-a190-8bf75e57a8e8",
   "metadata": {},
   "source": [
    "## Die Testdaten vorhersagen\n",
    "\n",
    "Weil es jetzt mehrere Features gibt, ist das Zeichnen eine mehrdimensionalen Graphen nicht möglich. Daher werden im Folgenden die **Profite** aus den Trainingsdaten mit denen aus dem Testset verglichen. Hierbei kann die Güte des Modells erneut an der Abweichung der vorhergesagten zu den Testwerten gemessen werden."
   ]
  },
  {
   "cell_type": "code",
   "execution_count": 158,
   "id": "3466d51d-8833-436d-ade3-c928f558cb01",
   "metadata": {},
   "outputs": [
    {
     "data": {
      "text/plain": [
       "array([[1.0, 0.0, 0.0, -1.3360768204591424, -0.8277899615678128],\n",
       "       [1.0, 0.0, 0.0, 1.9013400906533953, 2.02036871975873],\n",
       "       [1.0, 0.0, 0.0, 0.28263163509712647, 0.13250875091010228]],\n",
       "      dtype=object)"
      ]
     },
     "execution_count": 158,
     "metadata": {},
     "output_type": "execute_result"
    }
   ],
   "source": [
    "X_test"
   ]
  },
  {
   "cell_type": "code",
   "execution_count": 159,
   "id": "30731c54-1cd5-432a-98b3-87ba22670aeb",
   "metadata": {},
   "outputs": [
    {
     "data": {
      "text/plain": [
       "array([0, 1, 0])"
      ]
     },
     "execution_count": 159,
     "metadata": {},
     "output_type": "execute_result"
    }
   ],
   "source": [
    "y_pred = classifier.predict(X_test)\n",
    "y_pred"
   ]
  },
  {
   "cell_type": "markdown",
   "id": "144cb1a8-154c-467a-9f04-33fe7f2a03a2",
   "metadata": {},
   "source": [
    "Um die vorhergesagten und bekannten Daten nebeneinanderstellen zu können, wird das numpy-Array umgeformt:"
   ]
  },
  {
   "cell_type": "code",
   "execution_count": 160,
   "id": "2560dc0b-3bea-472f-b6a1-938da1004a09",
   "metadata": {},
   "outputs": [
    {
     "name": "stdout",
     "output_type": "stream",
     "text": [
      "[[0 1]\n",
      " [1 1]\n",
      " [0 0]]\n"
     ]
    }
   ],
   "source": [
    "np.set_printoptions(precision=2)\n",
    "print(np.concatenate((y_pred.reshape(len(y_pred),1), y_test.reshape(len(y_test),1)), 1))"
   ]
  },
  {
   "cell_type": "markdown",
   "id": "a1e23141-f1a8-472a-8d6c-6a976c92dc86",
   "metadata": {},
   "source": [
    "## Wahrheitsmatrix (*confusion matrix*) ausgeben\n",
    "\n",
    "[Die Wikipedia](https://de.wikipedia.org/wiki/Beurteilung_eines_bin%C3%A4ren_Klassifikators#Wahrheitsmatrix:_Richtige_und_falsche_Klassifikationen) erklärt sehr gut, wie eine Wahrheitsmatrix (*confusion matrix*) bei der Gütebewertung des Modells helfen kann."
   ]
  },
  {
   "cell_type": "code",
   "execution_count": 167,
   "id": "35e7bd6d-2cb8-4c70-97bd-9af3a72a95a7",
   "metadata": {},
   "outputs": [
    {
     "name": "stdout",
     "output_type": "stream",
     "text": [
      "Die Wahrheitsmatrix sieht aus wie folgt:\n",
      "[[1 0]\n",
      " [1 1]]\n",
      "Der Accuracy Score beträgt 66.66666666666666 %.\n"
     ]
    }
   ],
   "source": [
    "from sklearn.metrics import confusion_matrix, accuracy_score\n",
    "cm = confusion_matrix(y_test, y_pred)\n",
    "print(\"Die Wahrheitsmatrix sieht aus wie folgt:\")\n",
    "print(cm)\n",
    "# Die Rate der korrekten Vorhersagen\n",
    "print(\"Der Accuracy Score beträgt {} %.\".format(accuracy_score(y_test, y_pred)*100))"
   ]
  }
 ],
 "metadata": {
  "kernelspec": {
   "display_name": "Python 3 (ipykernel)",
   "language": "python",
   "name": "python3"
  },
  "language_info": {
   "codemirror_mode": {
    "name": "ipython",
    "version": 3
   },
   "file_extension": ".py",
   "mimetype": "text/x-python",
   "name": "python",
   "nbconvert_exporter": "python",
   "pygments_lexer": "ipython3",
   "version": "3.10.6"
  }
 },
 "nbformat": 4,
 "nbformat_minor": 5
}
