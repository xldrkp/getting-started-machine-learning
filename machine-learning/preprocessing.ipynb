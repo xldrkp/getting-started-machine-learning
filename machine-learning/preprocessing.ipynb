{
 "cells": [
  {
   "cell_type": "markdown",
   "id": "993a4065-8d2d-4dc5-8862-48d72bc4f587",
   "metadata": {},
   "source": [
    "# Daten vorbereiten (*data preprocessing*)"
   ]
  },
  {
   "cell_type": "markdown",
   "id": "9d06745f-4a2d-460a-b5c0-04489d0602cb",
   "metadata": {},
   "source": [
    "## Bibliotheken installieren"
   ]
  },
  {
   "cell_type": "code",
   "execution_count": 31,
   "id": "00cfe800-a8c4-4f11-815d-364704b633e4",
   "metadata": {},
   "outputs": [],
   "source": [
    "#!pip install numpy\n",
    "#!pip install pandas\n",
    "#!pip install matplotlib"
   ]
  },
  {
   "cell_type": "markdown",
   "id": "ade68fec-79c9-4e4d-9a3a-1f386df6194c",
   "metadata": {},
   "source": [
    "## Bibliotheken importieren\n",
    "\n"
   ]
  },
  {
   "cell_type": "code",
   "execution_count": 32,
   "id": "2aa23dd7-8f97-49f2-804f-99b5dc364bfa",
   "metadata": {},
   "outputs": [],
   "source": [
    "import numpy as np\n",
    "import matplotlib.pyplot as plt\n",
    "import pandas as pd"
   ]
  },
  {
   "cell_type": "markdown",
   "id": "67d085fc-9d6f-4240-afa0-56d6e7fee6fd",
   "metadata": {},
   "source": [
    "## Daten importieren"
   ]
  },
  {
   "cell_type": "markdown",
   "id": "e41df6c2-4a3e-4e55-b7a9-6f729adcf010",
   "metadata": {},
   "source": [
    "Die Daten, die in diesem Beispiel als CSV-Datei vorliegen, wird mithilfe von *pandas* importiert."
   ]
  },
  {
   "cell_type": "code",
   "execution_count": 33,
   "id": "eb6a8cc9-105b-45fb-85f8-538486132cfc",
   "metadata": {},
   "outputs": [],
   "source": [
    "dataset = pd.read_csv(\"data/dataset.csv\")"
   ]
  },
  {
   "cell_type": "markdown",
   "id": "2ef646ab-46c0-4fd9-b340-874a871cfaae",
   "metadata": {},
   "source": [
    "Das geladene Datenset kann hier im Notebook angezeigt werden."
   ]
  },
  {
   "cell_type": "code",
   "execution_count": 34,
   "id": "ffffebf8-fb70-44aa-9124-cbf5bdad4328",
   "metadata": {},
   "outputs": [
    {
     "data": {
      "text/html": [
       "<div>\n",
       "<style scoped>\n",
       "    .dataframe tbody tr th:only-of-type {\n",
       "        vertical-align: middle;\n",
       "    }\n",
       "\n",
       "    .dataframe tbody tr th {\n",
       "        vertical-align: top;\n",
       "    }\n",
       "\n",
       "    .dataframe thead th {\n",
       "        text-align: right;\n",
       "    }\n",
       "</style>\n",
       "<table border=\"1\" class=\"dataframe\">\n",
       "  <thead>\n",
       "    <tr style=\"text-align: right;\">\n",
       "      <th></th>\n",
       "      <th>Land</th>\n",
       "      <th>Alter</th>\n",
       "      <th>Gehalt</th>\n",
       "      <th>gekauft</th>\n",
       "    </tr>\n",
       "  </thead>\n",
       "  <tbody>\n",
       "    <tr>\n",
       "      <th>0</th>\n",
       "      <td>Frankreich</td>\n",
       "      <td>44.0</td>\n",
       "      <td>72000.0</td>\n",
       "      <td>Nein</td>\n",
       "    </tr>\n",
       "    <tr>\n",
       "      <th>1</th>\n",
       "      <td>Griechenland</td>\n",
       "      <td>27.0</td>\n",
       "      <td>48000.0</td>\n",
       "      <td>Ja</td>\n",
       "    </tr>\n",
       "    <tr>\n",
       "      <th>2</th>\n",
       "      <td>Deutschland</td>\n",
       "      <td>30.0</td>\n",
       "      <td>54000.0</td>\n",
       "      <td>Nein</td>\n",
       "    </tr>\n",
       "    <tr>\n",
       "      <th>3</th>\n",
       "      <td>Griechenland</td>\n",
       "      <td>38.0</td>\n",
       "      <td>61000.0</td>\n",
       "      <td>Nein</td>\n",
       "    </tr>\n",
       "    <tr>\n",
       "      <th>4</th>\n",
       "      <td>Deutschland</td>\n",
       "      <td>40.0</td>\n",
       "      <td>NaN</td>\n",
       "      <td>Ja</td>\n",
       "    </tr>\n",
       "    <tr>\n",
       "      <th>5</th>\n",
       "      <td>Frankreich</td>\n",
       "      <td>35.0</td>\n",
       "      <td>58000.0</td>\n",
       "      <td>Ja</td>\n",
       "    </tr>\n",
       "    <tr>\n",
       "      <th>6</th>\n",
       "      <td>Griechenland</td>\n",
       "      <td>NaN</td>\n",
       "      <td>52000.0</td>\n",
       "      <td>Nein</td>\n",
       "    </tr>\n",
       "    <tr>\n",
       "      <th>7</th>\n",
       "      <td>Frankreich</td>\n",
       "      <td>48.0</td>\n",
       "      <td>79000.0</td>\n",
       "      <td>Ja</td>\n",
       "    </tr>\n",
       "    <tr>\n",
       "      <th>8</th>\n",
       "      <td>Deutschland</td>\n",
       "      <td>50.0</td>\n",
       "      <td>83000.0</td>\n",
       "      <td>Nein</td>\n",
       "    </tr>\n",
       "    <tr>\n",
       "      <th>9</th>\n",
       "      <td>Frankreich</td>\n",
       "      <td>37.0</td>\n",
       "      <td>67000.0</td>\n",
       "      <td>Ja</td>\n",
       "    </tr>\n",
       "  </tbody>\n",
       "</table>\n",
       "</div>"
      ],
      "text/plain": [
       "           Land  Alter   Gehalt gekauft\n",
       "0    Frankreich   44.0  72000.0    Nein\n",
       "1  Griechenland   27.0  48000.0      Ja\n",
       "2   Deutschland   30.0  54000.0    Nein\n",
       "3  Griechenland   38.0  61000.0    Nein\n",
       "4   Deutschland   40.0      NaN      Ja\n",
       "5    Frankreich   35.0  58000.0      Ja\n",
       "6  Griechenland    NaN  52000.0    Nein\n",
       "7    Frankreich   48.0  79000.0      Ja\n",
       "8   Deutschland   50.0  83000.0    Nein\n",
       "9    Frankreich   37.0  67000.0      Ja"
      ]
     },
     "execution_count": 34,
     "metadata": {},
     "output_type": "execute_result"
    }
   ],
   "source": [
    "dataset"
   ]
  },
  {
   "cell_type": "markdown",
   "id": "396a6511-779f-488e-b304-f1f014f9b6f1",
   "metadata": {},
   "source": [
    "Für die folgenden Operationen auf den Daten muss das Datenset in zwei Bereiche eingeteilt werden. Dabei sind sind die folgenden Gedanken leitend:\n",
    "\n",
    "Das zu entwickelnde Modell soll voraussagen können, ob ein Klient Kaufabsichten hat oder nicht. Dafür werden die **Features** `Land`, `Alter` und `Gehalt` zugrundegelegt. Diese Features sind die **unabhängigen Variablen**. Die **abhängige Variable** wiederum ist in der letzten Spalte `gekauft` zu finden. Sie hängt von den Werten der ersten drei Spalten ab.\n",
    "\n",
    "Es gilt also, ein Modell mit den Features der ersten drei Spalten zu trainieren, um eine Voraussage (*prediction*) für die Kaufabsicht treffen zu können."
   ]
  },
  {
   "cell_type": "markdown",
   "id": "b8c2be14-12e4-4b47-b9a3-898e49e8c7bc",
   "metadata": {},
   "source": [
    "Die folgenden Anweisungen sind sehr allgemein formuliert, damit sie für weitere Aufgaben wiederverwendbar sind. Voraussetzung ist, dass die ersten Spalten eines Datensets die **unabhängigen Variablen** enthalten, während die **abhängige Variable** in der letzten Spalte steht."
   ]
  },
  {
   "cell_type": "markdown",
   "id": "b8a901e5-cc08-4335-b06d-6e88762ffea0",
   "metadata": {},
   "source": [
    "## Featurematrix auswählen\n",
    "\n",
    "Zunächst werden die Features in einer Variable zusammengefasst, die einer **Matrix** entspricht."
   ]
  },
  {
   "cell_type": "code",
   "execution_count": 35,
   "id": "1eb5c7f9-1cca-41b2-bd9b-e9e441d79f5e",
   "metadata": {},
   "outputs": [],
   "source": [
    "X = dataset.iloc[:, :-1].values"
   ]
  },
  {
   "cell_type": "markdown",
   "id": "461711a8-2873-4642-ae49-3ac0e4b9009e",
   "metadata": {},
   "source": [
    "`iloc` ist eine Methode, die *pandas* für DataFrames zur Verfügung stellt. In den eckigen Klammern wird angegeben, welche Werte einer Tabelle ausgewählt werden sollen. Stehen dort zwei kommaseparierte Werte, bezeichnet der erste die Zeilen, der zweite die Spalten."
   ]
  },
  {
   "cell_type": "markdown",
   "id": "4722642d-455b-4c19-bf6a-b8e099f60d51",
   "metadata": {},
   "source": [
    ":::{.callout-tip}\n",
    "### Aufgabe\n",
    "Erklären Sie, was es mit den Doppelpunkten auf sich hat und warum die Angabe für die Spalten mit `-1` notiert ist!\n",
    ":::"
   ]
  },
  {
   "cell_type": "markdown",
   "id": "77f3b722-2bf4-4bb5-91ad-2a3725ff6ae0",
   "metadata": {},
   "source": [
    "## Abhängigen Vektor bestimmen\n",
    "\n",
    "Anschließend wird die letzte Spalte als **Vektor** ausgewählt. Diese Werte sollen vorhergesagt werden."
   ]
  },
  {
   "cell_type": "code",
   "execution_count": 36,
   "id": "d11b027b-7f59-4abd-bb79-b9264c3d824a",
   "metadata": {},
   "outputs": [],
   "source": [
    "y = dataset.iloc[:, -1].values"
   ]
  },
  {
   "cell_type": "markdown",
   "id": "ce083757-1780-44de-8be6-9a7dae7c63e8",
   "metadata": {},
   "source": [
    "Die Anordnung der Features als Matrix kann mit einer einfachen Ausgabe dargestellt werden."
   ]
  },
  {
   "cell_type": "code",
   "execution_count": 37,
   "id": "140d2512-a078-45a3-85c6-98d5d8aee548",
   "metadata": {},
   "outputs": [
    {
     "name": "stdout",
     "output_type": "stream",
     "text": [
      "[['Frankreich' 44.0 72000.0]\n",
      " ['Griechenland' 27.0 48000.0]\n",
      " ['Deutschland' 30.0 54000.0]\n",
      " ['Griechenland' 38.0 61000.0]\n",
      " ['Deutschland' 40.0 nan]\n",
      " ['Frankreich' 35.0 58000.0]\n",
      " ['Griechenland' nan 52000.0]\n",
      " ['Frankreich' 48.0 79000.0]\n",
      " ['Deutschland' 50.0 83000.0]\n",
      " ['Frankreich' 37.0 67000.0]]\n"
     ]
    }
   ],
   "source": [
    "print(X)"
   ]
  },
  {
   "cell_type": "markdown",
   "id": "4b799139-bb93-44ae-9d36-b10a594c8fd3",
   "metadata": {},
   "source": [
    "Ebenso die Gestalt der abhängigen Variable als Vektor."
   ]
  },
  {
   "cell_type": "code",
   "execution_count": 38,
   "id": "e4f20279-6a29-4dec-bc7d-244fbfcdaaf5",
   "metadata": {},
   "outputs": [
    {
     "name": "stdout",
     "output_type": "stream",
     "text": [
      "['Nein' 'Ja' 'Nein' 'Nein' 'Ja' 'Ja' 'Nein' 'Ja' 'Nein' 'Ja']\n"
     ]
    }
   ],
   "source": [
    "print(y)"
   ]
  },
  {
   "cell_type": "markdown",
   "id": "dcf5616a-8f9e-479f-9f4d-83303532cce6",
   "metadata": {},
   "source": [
    "## Fehlende Daten berücksichtigen\n",
    "\n",
    "Wenn wenige Daten fehlen, können diese Datensätze in der Regel ignoriert bzw. entfernt werden. Fehlen in vielen Datensätzen Daten, gibt es verschiedene Strategien, diese zu ersetzen. Eine davon ist, den Mittelwert aus den vorhandenen Daten zu bilden. Hierfür stellt *scikit-learn* ein Verfahren zur Verfügung."
   ]
  },
  {
   "cell_type": "code",
   "execution_count": 39,
   "id": "f1fbfe0f-abe7-485e-9108-b9aa23602d50",
   "metadata": {},
   "outputs": [],
   "source": [
    "from sklearn.impute import SimpleImputer\n",
    "imputer = SimpleImputer(missing_values=np.nan, strategy='mean')\n",
    "imputer.fit(X[:, 1:3])\n",
    "X[:, 1:3] = imputer.transform(X[:, 1:3])"
   ]
  },
  {
   "cell_type": "code",
   "execution_count": 40,
   "id": "57096c0b-d3dd-4ab6-9563-07ac2080d4b3",
   "metadata": {},
   "outputs": [
    {
     "name": "stdout",
     "output_type": "stream",
     "text": [
      "[['Frankreich' 44.0 72000.0]\n",
      " ['Griechenland' 27.0 48000.0]\n",
      " ['Deutschland' 30.0 54000.0]\n",
      " ['Griechenland' 38.0 61000.0]\n",
      " ['Deutschland' 40.0 63777.77777777778]\n",
      " ['Frankreich' 35.0 58000.0]\n",
      " ['Griechenland' 38.77777777777778 52000.0]\n",
      " ['Frankreich' 48.0 79000.0]\n",
      " ['Deutschland' 50.0 83000.0]\n",
      " ['Frankreich' 37.0 67000.0]]\n"
     ]
    }
   ],
   "source": [
    "print(X)"
   ]
  },
  {
   "cell_type": "markdown",
   "id": "10921d64-d3ac-42ad-b3a0-1636f39bccc4",
   "metadata": {},
   "source": [
    ":::{.callout-tip}\n",
    "### Aufgabe\n",
    "Recherchieren Sie verwendeten Klassen und Methoden [in der Dokumentation von *scikit-learn*](https://scikit-learn.org/stable/index.html).\n",
    "\n",
    ":::"
   ]
  },
  {
   "cell_type": "markdown",
   "id": "3849ab02-845d-40f8-bf80-9187bf137e73",
   "metadata": {},
   "source": [
    "## Kategorien in den Daten kodieren\n",
    "\n",
    "Damit der Algorithmus die Daten schnell und eindeutig verarbeiten kann, müssen Textwerte als Zahlenwerte kodiert werden, hier also die Länder. Ein gängiges Verfahren ist hierbei, binäre Vektoren aus den möglichen Kombinationen der Kategorien zu erstellen. Bei diesem Vorgehen werden neue Spalten angelegt, die diese Vektoren abbilden. [Lesen Sie hierzu auch den Artikel über **One Hot Encoding**, wie dieses Verfahren genannt wird](https://www.educative.io/blog/one-hot-encoding).\n",
    "\n",
    "Da im vorliegenden Datenset sowohl in den unabhängigen als auch in der abhängigen Variable kategorische Daten vorliegen, ist der Vorgang zweimal notwendig."
   ]
  },
  {
   "cell_type": "markdown",
   "id": "3b32d713-e01b-4480-bc9b-c716711445d7",
   "metadata": {},
   "source": [
    "### Die unabhängige Variable kodieren\n",
    "\n",
    "Auch hierfür werden wieder Methoden von *scikit-learn* verwendet."
   ]
  },
  {
   "cell_type": "code",
   "execution_count": 41,
   "id": "02bdf6a8-6a62-4762-ac2e-d5dc27d3d78e",
   "metadata": {},
   "outputs": [],
   "source": [
    "from sklearn.compose import ColumnTransformer\n",
    "from sklearn.preprocessing import OneHotEncoder\n",
    "ct = ColumnTransformer(transformers=[('encoder', OneHotEncoder(), [0])], remainder='passthrough')\n",
    "X = np.array(ct.fit_transform(X))"
   ]
  },
  {
   "cell_type": "code",
   "execution_count": 42,
   "id": "4a1d83db-e0e7-4c30-a019-4ee64eef5a40",
   "metadata": {},
   "outputs": [
    {
     "name": "stdout",
     "output_type": "stream",
     "text": [
      "ColumnTransformer(remainder='passthrough',\n",
      "                  transformers=[('encoder', OneHotEncoder(), [0])])\n"
     ]
    }
   ],
   "source": [
    "print(ct)"
   ]
  },
  {
   "cell_type": "code",
   "execution_count": 43,
   "id": "6b246d50-c3ac-4fd3-adb3-3ff4e734806f",
   "metadata": {},
   "outputs": [
    {
     "name": "stdout",
     "output_type": "stream",
     "text": [
      "[[0.0 1.0 0.0 44.0 72000.0]\n",
      " [0.0 0.0 1.0 27.0 48000.0]\n",
      " [1.0 0.0 0.0 30.0 54000.0]\n",
      " [0.0 0.0 1.0 38.0 61000.0]\n",
      " [1.0 0.0 0.0 40.0 63777.77777777778]\n",
      " [0.0 1.0 0.0 35.0 58000.0]\n",
      " [0.0 0.0 1.0 38.77777777777778 52000.0]\n",
      " [0.0 1.0 0.0 48.0 79000.0]\n",
      " [1.0 0.0 0.0 50.0 83000.0]\n",
      " [0.0 1.0 0.0 37.0 67000.0]]\n"
     ]
    }
   ],
   "source": [
    "print(X)"
   ]
  },
  {
   "cell_type": "markdown",
   "id": "dec751a5-295f-4c9f-a375-da4266138612",
   "metadata": {},
   "source": [
    "### Die abhängige Variable kodieren\n",
    "\n",
    "Da die Werte der abhängigen Variablen binär abgebildet werden können, ist hier One-Hot-Encoding nicht notwendig. "
   ]
  },
  {
   "cell_type": "code",
   "execution_count": 44,
   "id": "dbfe353c-9298-4060-9338-71383de2663d",
   "metadata": {},
   "outputs": [],
   "source": [
    "from sklearn.preprocessing import LabelEncoder\n",
    "le = LabelEncoder()\n",
    "y = le.fit_transform(y)"
   ]
  },
  {
   "cell_type": "code",
   "execution_count": 45,
   "id": "82380f3c-6fc2-4b2d-9c7a-dc187c011a72",
   "metadata": {},
   "outputs": [
    {
     "name": "stdout",
     "output_type": "stream",
     "text": [
      "[1 0 1 1 0 0 1 0 1 0]\n"
     ]
    }
   ],
   "source": [
    "print(y)"
   ]
  },
  {
   "cell_type": "markdown",
   "id": "bca72d9e-69df-4e49-b197-8f3b327bd2d9",
   "metadata": {},
   "source": [
    "## Daten aufteilen in Training- und Testset\n",
    "\n",
    "Für den eigentlichen Prozess des \"Maschinenlernens\" wird das Datenset in ein **Trainingsset** und ein **Testset** aufgeteilt.\n",
    "\n",
    "Mit dem Trainingsset wird das Machine-Learning-Modell trainiert, mit dem Testset wird die Vorhersagegüte des Modells getestet. Hierbei wird so getan, als ob es sich bei den Testdaten um zukünftige reale Daten handelt."
   ]
  },
  {
   "cell_type": "markdown",
   "id": "0d0ccd65-fa59-42d5-bb18-696595b7b580",
   "metadata": {},
   "source": [
    "*scikit-learn* stellt auch hierfür ein Verfahren bereit."
   ]
  },
  {
   "cell_type": "code",
   "execution_count": 46,
   "id": "98739593-68ec-417b-8731-c6716e577c9e",
   "metadata": {},
   "outputs": [],
   "source": [
    "from sklearn.model_selection import train_test_split\n",
    "X_train, X_test, y_train, y_test = train_test_split(X, y, test_size = 0.2, random_state = 1)"
   ]
  },
  {
   "cell_type": "code",
   "execution_count": 47,
   "id": "c607537e-ed75-43fd-9b97-b2fc45a53ab3",
   "metadata": {},
   "outputs": [
    {
     "name": "stdout",
     "output_type": "stream",
     "text": [
      "[[0.0 0.0 1.0 38.77777777777778 52000.0]\n",
      " [1.0 0.0 0.0 40.0 63777.77777777778]\n",
      " [0.0 1.0 0.0 44.0 72000.0]\n",
      " [0.0 0.0 1.0 38.0 61000.0]\n",
      " [0.0 0.0 1.0 27.0 48000.0]\n",
      " [0.0 1.0 0.0 48.0 79000.0]\n",
      " [1.0 0.0 0.0 50.0 83000.0]\n",
      " [0.0 1.0 0.0 35.0 58000.0]]\n"
     ]
    }
   ],
   "source": [
    "print(X_train)"
   ]
  },
  {
   "cell_type": "code",
   "execution_count": 48,
   "id": "acb3ec09-1180-4453-a20b-57f838d56a10",
   "metadata": {},
   "outputs": [
    {
     "name": "stdout",
     "output_type": "stream",
     "text": [
      "[[1.0 0.0 0.0 30.0 54000.0]\n",
      " [0.0 1.0 0.0 37.0 67000.0]]\n"
     ]
    }
   ],
   "source": [
    "print(X_test)"
   ]
  },
  {
   "cell_type": "code",
   "execution_count": 49,
   "id": "59e03c0c-3a84-4ef0-8be3-81235c2368b6",
   "metadata": {},
   "outputs": [
    {
     "name": "stdout",
     "output_type": "stream",
     "text": [
      "[1 0 1 1 0 0 1 0]\n"
     ]
    }
   ],
   "source": [
    "print(y_train)"
   ]
  },
  {
   "cell_type": "code",
   "execution_count": 50,
   "id": "3bfba28f-505d-4210-8f5b-1f73d5e48496",
   "metadata": {},
   "outputs": [
    {
     "name": "stdout",
     "output_type": "stream",
     "text": [
      "[1 0]\n"
     ]
    }
   ],
   "source": [
    "print(y_test)"
   ]
  },
  {
   "cell_type": "markdown",
   "id": "18453935-f743-4896-926b-76179df7428c",
   "metadata": {},
   "source": [
    "## Feature Scaling\n",
    "\n",
    "Feature Scaling ist die Anpassung der unabhängigen Daten in einer Weise, dass sie alle im gleichen Verhältnis zueinander stehen. Dadurch wird vermieden, dass ein Feature andere Features dominiert. \n",
    "\n",
    "**Wichtig: Feature Scaling wird immer erst nach der Aufteilung des Datensets durchgeführt! Damit wird Informationsverlust bei den Testdaten vermieden.**"
   ]
  },
  {
   "cell_type": "markdown",
   "id": "58781a8b-2fbe-41d5-87eb-8a0cbdcfe557",
   "metadata": {},
   "source": [
    "### Normalisierung\n",
    "\n",
    "Hier werden alle Werte in den Bereich zwischen `0` und `1` eingeordnet. Normalisierung wird angewendet, wenn es eine normale Verteilung in den meisten Features gibt."
   ]
  },
  {
   "cell_type": "markdown",
   "id": "06135d2d-fabb-480d-bca1-7798630d57ed",
   "metadata": {},
   "source": [
    "### Standardisierung\n",
    "\n",
    "Hierbei werden alle Werte in den Bereich von `-3` und `+3` eingeordnet. Standardisierung funktioniert immer, egal wie verschieden die Verteilung der Werte in den Features ist.\n",
    "\n",
    "**TODO: Hier noch den Rechenweg**"
   ]
  },
  {
   "cell_type": "code",
   "execution_count": 51,
   "id": "30299ff2-2a23-44c1-82af-bc2384bc370a",
   "metadata": {},
   "outputs": [],
   "source": [
    "from sklearn.preprocessing import StandardScaler\n",
    "sc = StandardScaler()\n",
    "X_train[:, 3:] = sc.fit_transform(X_train[:, 3:])\n",
    "X_test[:, 3:] = sc.transform(X_test[:, 3:])"
   ]
  },
  {
   "cell_type": "code",
   "execution_count": 52,
   "id": "b43155b0-8aeb-4cc7-a2b2-fe2d9d7aac2a",
   "metadata": {},
   "outputs": [
    {
     "name": "stdout",
     "output_type": "stream",
     "text": [
      "[[0.0 0.0 1.0 -0.19159184384578545 -1.0781259408412425]\n",
      " [1.0 0.0 0.0 -0.014117293757057777 -0.07013167641635372]\n",
      " [0.0 1.0 0.0 0.566708506533324 0.633562432710455]\n",
      " [0.0 0.0 1.0 -0.30453019390224867 -0.30786617274297867]\n",
      " [0.0 0.0 1.0 -1.9018011447007988 -1.420463615551582]\n",
      " [0.0 1.0 0.0 1.1475343068237058 1.232653363453549]\n",
      " [1.0 0.0 0.0 1.4379472069688968 1.5749910381638885]\n",
      " [0.0 1.0 0.0 -0.7401495441200351 -0.5646194287757332]]\n"
     ]
    }
   ],
   "source": [
    "print(X_train)"
   ]
  },
  {
   "cell_type": "code",
   "execution_count": 53,
   "id": "43635b3b-84d0-4d03-9c62-5b064546263f",
   "metadata": {},
   "outputs": [
    {
     "name": "stdout",
     "output_type": "stream",
     "text": [
      "[[1.0 0.0 0.0 -1.4661817944830124 -0.9069571034860727]\n",
      " [0.0 1.0 0.0 -0.44973664397484414 0.2056403393225306]]\n"
     ]
    }
   ],
   "source": [
    "print(X_test)"
   ]
  },
  {
   "cell_type": "markdown",
   "id": "28cdc05b-81f8-479d-b396-e0c74d819e80",
   "metadata": {},
   "source": [
    "## Aufgaben"
   ]
  },
  {
   "cell_type": "markdown",
   "id": "2fcfd9d2-ef77-4bf2-8243-95746c9d31e0",
   "metadata": {},
   "source": [
    ":::{.callout-tip}\n",
    "### Nachvollziehen der verwendeten Klassen, Methoden und Eigenschaften von *scikit-learn*.\n",
    "Recherchieren Sie in der Dokumentation von *scikit-learn*, was Sie in diesem Beispiel verwendet haben.\n",
    ":::"
   ]
  },
  {
   "cell_type": "markdown",
   "id": "11c7fd2b-dccd-48d0-929e-90d8a69582ee",
   "metadata": {},
   "source": [
    ":::{.callout-tip}\n",
    "### Modell für Vorhersage entwickeln\n",
    "1. Überlegen Sie, was für ein Modell Sie für diese Daten entwickeln müssen, um die Kaufabsichten von Klienten vorhersagen zu können.\n",
    "2. Entwickeln Sie das Modell.\n",
    ":::"
   ]
  }
 ],
 "metadata": {
  "kernelspec": {
   "display_name": "ludwig",
   "language": "python",
   "name": "ludwig"
  },
  "language_info": {
   "codemirror_mode": {
    "name": "ipython",
    "version": 3
   },
   "file_extension": ".py",
   "mimetype": "text/x-python",
   "name": "python",
   "nbconvert_exporter": "python",
   "pygments_lexer": "ipython3",
   "version": "3.9.1"
  }
 },
 "nbformat": 4,
 "nbformat_minor": 5
}
