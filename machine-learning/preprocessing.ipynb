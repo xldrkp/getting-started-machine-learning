{
 "cells": [
  {
   "cell_type": "markdown",
   "id": "993a4065-8d2d-4dc5-8862-48d72bc4f587",
   "metadata": {},
   "source": [
    "# Daten vorbereiten (*data preprocessing*)"
   ]
  },
  {
   "cell_type": "markdown",
   "id": "9d06745f-4a2d-460a-b5c0-04489d0602cb",
   "metadata": {},
   "source": [
    "## Bibliotheken installieren"
   ]
  },
  {
   "cell_type": "code",
   "execution_count": null,
   "id": "00cfe800-a8c4-4f11-815d-364704b633e4",
   "metadata": {},
   "outputs": [],
   "source": [
    "#!pip install numpy\n",
    "#!pip install pandas\n",
    "#!pip install matplotlib"
   ]
  },
  {
   "cell_type": "markdown",
   "id": "ade68fec-79c9-4e4d-9a3a-1f386df6194c",
   "metadata": {},
   "source": [
    "## Bibliotheken importieren\n",
    "\n"
   ]
  },
  {
   "cell_type": "code",
   "execution_count": null,
   "id": "2aa23dd7-8f97-49f2-804f-99b5dc364bfa",
   "metadata": {},
   "outputs": [],
   "source": [
    "import numpy as np\n",
    "import matplotlib.pyplot as plt\n",
    "import pandas as pd"
   ]
  },
  {
   "cell_type": "markdown",
   "id": "67d085fc-9d6f-4240-afa0-56d6e7fee6fd",
   "metadata": {},
   "source": [
    "## Daten importieren\n",
    "\n",
    "**Features** sind hier die unabhängigen Variablen, mit denen die abhängige Variable vorausgesagt werden kann. Diese **abhängige Variable** steht in der Regel in der letzten Spalte der Daten."
   ]
  },
  {
   "cell_type": "code",
   "execution_count": null,
   "id": "1eb5c7f9-1cca-41b2-bd9b-e9e441d79f5e",
   "metadata": {},
   "outputs": [],
   "source": [
    "dataset = pd.read_csv(\"data/dataset.csv\")\n",
    "# Merke: Die Obergrenze von *ranges* in Python ist ausgeschlossen! Daher wird die letzte Spalte mit -1 abgezogen.\n",
    "# Aufgabe: Recherchiere in der Dokumentation von pandas das Konzept von iloc.\n",
    "X = dataset.iloc[:, :-1].values\n",
    "y = dataset.iloc[:, -1].values"
   ]
  },
  {
   "cell_type": "code",
   "execution_count": null,
   "id": "140d2512-a078-45a3-85c6-98d5d8aee548",
   "metadata": {},
   "outputs": [],
   "source": [
    "print(X)"
   ]
  },
  {
   "cell_type": "code",
   "execution_count": null,
   "id": "e4f20279-6a29-4dec-bc7d-244fbfcdaaf5",
   "metadata": {},
   "outputs": [],
   "source": [
    "print(y)"
   ]
  },
  {
   "cell_type": "markdown",
   "id": "dcf5616a-8f9e-479f-9f4d-83303532cce6",
   "metadata": {},
   "source": [
    "## Fehlende Daten berücksichtigen\n",
    "\n",
    "Wenn wenige Daten fehlen, können diese Datensätze in der Regel ignoriert bzw. entfernt werden. Fehlen in vielen Datensätzen Daten, gibt es verschiedene Strategien, diese zu ersetzen. Eine davon ist, den Mittelwert aus den vorhandenen Daten zu bilden."
   ]
  },
  {
   "cell_type": "code",
   "execution_count": null,
   "id": "f1fbfe0f-abe7-485e-9108-b9aa23602d50",
   "metadata": {},
   "outputs": [],
   "source": [
    "# Aufgabe: Recherchiere in der Dokumentation von scikit-learn zu den im Folgenden verwendeten Funktionen!\n",
    "from sklearn.impute import SimpleImputer\n",
    "imputer = SimpleImputer(missing_values=np.nan, strategy='mean')\n",
    "imputer.fit(X[:, 1:3])\n",
    "X[:, 1:3] = imputer.transform(X[:, 1:3])"
   ]
  },
  {
   "cell_type": "code",
   "execution_count": null,
   "id": "57096c0b-d3dd-4ab6-9563-07ac2080d4b3",
   "metadata": {},
   "outputs": [],
   "source": [
    "print(X)"
   ]
  },
  {
   "cell_type": "markdown",
   "id": "3849ab02-845d-40f8-bf80-9187bf137e73",
   "metadata": {},
   "source": [
    "## Kategorien in den Daten kodieren\n",
    "\n",
    "Damit der Algorithmus die Daten schnell und eindeutig verarbeiten kann, müssen Textwerte als Zahlenwerte kodiert werden. Ein gängiges Verfahren ist hierbei, binäre Vektoren aus den möglichen Kombinationen der Kategorien zu erstellen. Bei diesem Vorgehen werden neue Spalten angelegt, die diese Vektoren abbilden. [Lies hierzu auch den Artikel über **One Hot Encoding**, wie dieses Verfahren genannt wird](https://www.educative.io/blog/one-hot-encoding).\n",
    "\n",
    "Da im vorliegenden Datenset sowohl in den unabhängigen als auch in der abhängigen Variable kategorische Daten vorliegen, ist der Vorgang zweimal notwendig."
   ]
  },
  {
   "cell_type": "markdown",
   "id": "3b32d713-e01b-4480-bc9b-c716711445d7",
   "metadata": {},
   "source": [
    "### Die unabhängige Variable kodieren"
   ]
  },
  {
   "cell_type": "code",
   "execution_count": null,
   "id": "02bdf6a8-6a62-4762-ac2e-d5dc27d3d78e",
   "metadata": {},
   "outputs": [],
   "source": [
    "from sklearn.compose import ColumnTransformer\n",
    "from sklearn.preprocessing import OneHotEncoder\n",
    "ct = ColumnTransformer(transformers=[('encoder', OneHotEncoder(), [0])], remainder='passthrough')\n",
    "X = np.array(ct.fit_transform(X))"
   ]
  },
  {
   "cell_type": "code",
   "execution_count": null,
   "id": "6b246d50-c3ac-4fd3-adb3-3ff4e734806f",
   "metadata": {},
   "outputs": [],
   "source": [
    "print(X)"
   ]
  },
  {
   "cell_type": "markdown",
   "id": "dec751a5-295f-4c9f-a375-da4266138612",
   "metadata": {},
   "source": [
    "### Die abhängige Variable kodieren"
   ]
  },
  {
   "cell_type": "code",
   "execution_count": null,
   "id": "dbfe353c-9298-4060-9338-71383de2663d",
   "metadata": {},
   "outputs": [],
   "source": [
    "from sklearn.preprocessing import LabelEncoder\n",
    "le = LabelEncoder()\n",
    "y = le.fit_transform(y)"
   ]
  },
  {
   "cell_type": "code",
   "execution_count": null,
   "id": "82380f3c-6fc2-4b2d-9c7a-dc187c011a72",
   "metadata": {},
   "outputs": [],
   "source": [
    "print(y)"
   ]
  },
  {
   "cell_type": "markdown",
   "id": "bca72d9e-69df-4e49-b197-8f3b327bd2d9",
   "metadata": {},
   "source": [
    "## Daten aufteilen in Training- und Testset\n",
    "\n",
    "Für den eigentlichen Prozess des \"Maschinenlernens\" wird das Datenset in ein **Trainingsset** und ein **Testset** aufgeteilt.\n",
    "\n",
    "Mit dem Trainingsset wird das Machine-Learning-Modell trainiert, mit dem Testset wird die Performance des Modells getestet. Hierbei wird so getan, als ob es sich bei den Testdaten um zukünftige reale Daten handelt."
   ]
  },
  {
   "cell_type": "code",
   "execution_count": null,
   "id": "98739593-68ec-417b-8731-c6716e577c9e",
   "metadata": {},
   "outputs": [],
   "source": [
    "from sklearn.model_selection import train_test_split\n",
    "X_train, X_test, y_train, y_test = train_test_split(X, y, test_size = 0.2, random_state = 1)"
   ]
  },
  {
   "cell_type": "code",
   "execution_count": null,
   "id": "c607537e-ed75-43fd-9b97-b2fc45a53ab3",
   "metadata": {},
   "outputs": [],
   "source": [
    "print(X_train)"
   ]
  },
  {
   "cell_type": "code",
   "execution_count": null,
   "id": "acb3ec09-1180-4453-a20b-57f838d56a10",
   "metadata": {},
   "outputs": [],
   "source": [
    "print(X_test)"
   ]
  },
  {
   "cell_type": "code",
   "execution_count": null,
   "id": "59e03c0c-3a84-4ef0-8be3-81235c2368b6",
   "metadata": {},
   "outputs": [],
   "source": [
    "print(y_train)"
   ]
  },
  {
   "cell_type": "code",
   "execution_count": null,
   "id": "3bfba28f-505d-4210-8f5b-1f73d5e48496",
   "metadata": {},
   "outputs": [],
   "source": [
    "print(y_test)"
   ]
  },
  {
   "cell_type": "markdown",
   "id": "18453935-f743-4896-926b-76179df7428c",
   "metadata": {},
   "source": [
    "## Feature Scaling\n",
    "\n",
    "Feature Scaling ist die Anpassung der unabhängigen Daten in einer Weise, dass sie alle im gleichen Verhältnis zueinander stehen. Dadurch wird vermieden, dass ein Feature dominiert. \n",
    "\n",
    "Wichtig: Feature Scaling wird immer erst nach der Aufteilung des Datensets durchgeführt! Damit wird Informationsverlust bei den Testdaten vermieden."
   ]
  },
  {
   "cell_type": "markdown",
   "id": "58781a8b-2fbe-41d5-87eb-8a0cbdcfe557",
   "metadata": {},
   "source": [
    "### Normalisierung\n",
    "\n",
    "Hier werden alle Werte in den Bereich zwischen `0` und `1` eingeordnet. Normalisierung wird angewendet, wenn es eine normale Verteilung in den meisten Features gibt."
   ]
  },
  {
   "cell_type": "markdown",
   "id": "06135d2d-fabb-480d-bca1-7798630d57ed",
   "metadata": {},
   "source": [
    "### Standardisierung\n",
    "\n",
    "Hierbei werden alle Werte in den Bereich von `-3` und `+3` eingeordnet. Standardisierung funktioniert immer, egal wie verschieden die Verteilung der Werte in den Features ist."
   ]
  },
  {
   "cell_type": "code",
   "execution_count": null,
   "id": "30299ff2-2a23-44c1-82af-bc2384bc370a",
   "metadata": {},
   "outputs": [],
   "source": [
    "from sklearn.preprocessing import StandardScaler\n",
    "sc = StandardScaler()\n",
    "X_train[:, 3:] = sc.fit_transform(X_train[:, 3:])\n",
    "X_test[:, 3:] = sc.transform(X_test[:, 3:])"
   ]
  },
  {
   "cell_type": "code",
   "execution_count": null,
   "id": "b43155b0-8aeb-4cc7-a2b2-fe2d9d7aac2a",
   "metadata": {},
   "outputs": [],
   "source": [
    "print(X_train)"
   ]
  },
  {
   "cell_type": "code",
   "execution_count": null,
   "id": "43635b3b-84d0-4d03-9c62-5b064546263f",
   "metadata": {},
   "outputs": [],
   "source": [
    "print(X_test)"
   ]
  }
 ],
 "metadata": {
  "kernelspec": {
   "display_name": "ludwig",
   "language": "python",
   "name": "ludwig"
  },
  "language_info": {
   "codemirror_mode": {
    "name": "ipython",
    "version": 3
   },
   "file_extension": ".py",
   "mimetype": "text/x-python",
   "name": "python",
   "nbconvert_exporter": "python",
   "pygments_lexer": "ipython3",
   "version": "3.9.1"
  }
 },
 "nbformat": 4,
 "nbformat_minor": 5
}
