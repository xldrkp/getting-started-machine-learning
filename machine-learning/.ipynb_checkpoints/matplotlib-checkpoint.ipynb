{
 "cells": [
  {
   "cell_type": "markdown",
   "id": "ec5a3d82-e274-4404-b11d-906fd36526e5",
   "metadata": {},
   "source": [
    "# matplotlib\n",
    "\n",
    "Graphen und Visualisierungen"
   ]
  }
 ],
 "metadata": {
  "kernelspec": {
   "display_name": "Python 3 (ipykernel)",
   "language": "python",
   "name": "python3"
  },
  "language_info": {
   "codemirror_mode": {
    "name": "ipython",
    "version": 3
   },
   "file_extension": ".py",
   "mimetype": "text/x-python",
   "name": "python",
   "nbconvert_exporter": "python",
   "pygments_lexer": "ipython3",
   "version": "3.10.6"
  }
 },
 "nbformat": 4,
 "nbformat_minor": 5
}
