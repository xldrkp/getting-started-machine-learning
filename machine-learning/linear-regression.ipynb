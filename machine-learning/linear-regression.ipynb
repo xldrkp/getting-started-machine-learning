{
 "cells": [
  {
   "cell_type": "markdown",
   "id": "a925b355-0e61-41ef-b1e1-14c8528e44cf",
   "metadata": {},
   "source": [
    "# Einfache lineare Regression"
   ]
  },
  {
   "cell_type": "markdown",
   "id": "4f12af38-9a48-4a96-b15e-0b7e83703c90",
   "metadata": {},
   "source": [
    "Bei der einfachen Linearen Regression geht es darum, **einen Wert** in Abhängigkeit von **einem anderen Wert** vorherzusagen. Bspw. kann die Frage gestellt werden, die Erfahrung und Gehalt zusammenhängen. Eine verständliche Einführung mit Beispielen finden Sie [im Netz](https://studyflix.de/statistik/lineare-regression-2147)."
   ]
  },
  {
   "cell_type": "markdown",
   "id": "1b2b3b77-916d-4e33-95a2-4ce133e1ed66",
   "metadata": {},
   "source": [
    "## Beispiel: Gehalt bestimmen in Abhängigkeit von der Berufserfahrung"
   ]
  },
  {
   "cell_type": "markdown",
   "id": "b322915b-5a8a-41a1-a28d-8080b97cab1e",
   "metadata": {},
   "source": [
    "### Bibliotheken importieren"
   ]
  },
  {
   "cell_type": "code",
   "execution_count": 64,
   "id": "a0130015-e7eb-429d-95a3-0e82317d9af2",
   "metadata": {},
   "outputs": [],
   "source": [
    "import numpy as np\n",
    "import pandas as pd\n",
    "import matplotlib.pyplot as plt"
   ]
  },
  {
   "cell_type": "markdown",
   "id": "ec499f52-452e-4bce-ae1d-8fe1170a2898",
   "metadata": {},
   "source": [
    "### Daten importieren"
   ]
  },
  {
   "cell_type": "code",
   "execution_count": 65,
   "id": "98bb5283-0e7e-4a24-8607-5d76913eb693",
   "metadata": {},
   "outputs": [],
   "source": [
    "dataset = pd.read_csv(\"data/gehalt.csv\")\n",
    "X = dataset.iloc[:, :-1].values\n",
    "y = dataset.iloc[:, -1].values"
   ]
  },
  {
   "cell_type": "markdown",
   "id": "f5b61d99-c858-4d64-ad42-6fd84c939fdb",
   "metadata": {},
   "source": [
    "### Daten aufteilen"
   ]
  },
  {
   "cell_type": "code",
   "execution_count": 66,
   "id": "ed27edb4-f263-4e32-bffc-19b7dd11857b",
   "metadata": {},
   "outputs": [],
   "source": [
    "from sklearn.model_selection import train_test_split\n",
    "X_train, X_test, y_train, y_test = train_test_split(X, y, test_size = 0.2, random_state = 0)"
   ]
  },
  {
   "cell_type": "markdown",
   "id": "bb57fa76-7289-447b-ac54-88975d8760c4",
   "metadata": {},
   "source": [
    "### Trainieren des Modells für Lineare Regression"
   ]
  },
  {
   "cell_type": "code",
   "execution_count": 67,
   "id": "27484b00-a211-4f85-b76e-ba05fa961210",
   "metadata": {},
   "outputs": [
    {
     "data": {
      "text/html": [
       "<style>#sk-container-id-9 {color: black;background-color: white;}#sk-container-id-9 pre{padding: 0;}#sk-container-id-9 div.sk-toggleable {background-color: white;}#sk-container-id-9 label.sk-toggleable__label {cursor: pointer;display: block;width: 100%;margin-bottom: 0;padding: 0.3em;box-sizing: border-box;text-align: center;}#sk-container-id-9 label.sk-toggleable__label-arrow:before {content: \"▸\";float: left;margin-right: 0.25em;color: #696969;}#sk-container-id-9 label.sk-toggleable__label-arrow:hover:before {color: black;}#sk-container-id-9 div.sk-estimator:hover label.sk-toggleable__label-arrow:before {color: black;}#sk-container-id-9 div.sk-toggleable__content {max-height: 0;max-width: 0;overflow: hidden;text-align: left;background-color: #f0f8ff;}#sk-container-id-9 div.sk-toggleable__content pre {margin: 0.2em;color: black;border-radius: 0.25em;background-color: #f0f8ff;}#sk-container-id-9 input.sk-toggleable__control:checked~div.sk-toggleable__content {max-height: 200px;max-width: 100%;overflow: auto;}#sk-container-id-9 input.sk-toggleable__control:checked~label.sk-toggleable__label-arrow:before {content: \"▾\";}#sk-container-id-9 div.sk-estimator input.sk-toggleable__control:checked~label.sk-toggleable__label {background-color: #d4ebff;}#sk-container-id-9 div.sk-label input.sk-toggleable__control:checked~label.sk-toggleable__label {background-color: #d4ebff;}#sk-container-id-9 input.sk-hidden--visually {border: 0;clip: rect(1px 1px 1px 1px);clip: rect(1px, 1px, 1px, 1px);height: 1px;margin: -1px;overflow: hidden;padding: 0;position: absolute;width: 1px;}#sk-container-id-9 div.sk-estimator {font-family: monospace;background-color: #f0f8ff;border: 1px dotted black;border-radius: 0.25em;box-sizing: border-box;margin-bottom: 0.5em;}#sk-container-id-9 div.sk-estimator:hover {background-color: #d4ebff;}#sk-container-id-9 div.sk-parallel-item::after {content: \"\";width: 100%;border-bottom: 1px solid gray;flex-grow: 1;}#sk-container-id-9 div.sk-label:hover label.sk-toggleable__label {background-color: #d4ebff;}#sk-container-id-9 div.sk-serial::before {content: \"\";position: absolute;border-left: 1px solid gray;box-sizing: border-box;top: 0;bottom: 0;left: 50%;z-index: 0;}#sk-container-id-9 div.sk-serial {display: flex;flex-direction: column;align-items: center;background-color: white;padding-right: 0.2em;padding-left: 0.2em;position: relative;}#sk-container-id-9 div.sk-item {position: relative;z-index: 1;}#sk-container-id-9 div.sk-parallel {display: flex;align-items: stretch;justify-content: center;background-color: white;position: relative;}#sk-container-id-9 div.sk-item::before, #sk-container-id-9 div.sk-parallel-item::before {content: \"\";position: absolute;border-left: 1px solid gray;box-sizing: border-box;top: 0;bottom: 0;left: 50%;z-index: -1;}#sk-container-id-9 div.sk-parallel-item {display: flex;flex-direction: column;z-index: 1;position: relative;background-color: white;}#sk-container-id-9 div.sk-parallel-item:first-child::after {align-self: flex-end;width: 50%;}#sk-container-id-9 div.sk-parallel-item:last-child::after {align-self: flex-start;width: 50%;}#sk-container-id-9 div.sk-parallel-item:only-child::after {width: 0;}#sk-container-id-9 div.sk-dashed-wrapped {border: 1px dashed gray;margin: 0 0.4em 0.5em 0.4em;box-sizing: border-box;padding-bottom: 0.4em;background-color: white;}#sk-container-id-9 div.sk-label label {font-family: monospace;font-weight: bold;display: inline-block;line-height: 1.2em;}#sk-container-id-9 div.sk-label-container {text-align: center;}#sk-container-id-9 div.sk-container {/* jupyter's `normalize.less` sets `[hidden] { display: none; }` but bootstrap.min.css set `[hidden] { display: none !important; }` so we also need the `!important` here to be able to override the default hidden behavior on the sphinx rendered scikit-learn.org. See: https://github.com/scikit-learn/scikit-learn/issues/21755 */display: inline-block !important;position: relative;}#sk-container-id-9 div.sk-text-repr-fallback {display: none;}</style><div id=\"sk-container-id-9\" class=\"sk-top-container\"><div class=\"sk-text-repr-fallback\"><pre>LinearRegression()</pre><b>In a Jupyter environment, please rerun this cell to show the HTML representation or trust the notebook. <br />On GitHub, the HTML representation is unable to render, please try loading this page with nbviewer.org.</b></div><div class=\"sk-container\" hidden><div class=\"sk-item\"><div class=\"sk-estimator sk-toggleable\"><input class=\"sk-toggleable__control sk-hidden--visually\" id=\"sk-estimator-id-9\" type=\"checkbox\" checked><label for=\"sk-estimator-id-9\" class=\"sk-toggleable__label sk-toggleable__label-arrow\">LinearRegression</label><div class=\"sk-toggleable__content\"><pre>LinearRegression()</pre></div></div></div></div></div>"
      ],
      "text/plain": [
       "LinearRegression()"
      ]
     },
     "execution_count": 67,
     "metadata": {},
     "output_type": "execute_result"
    }
   ],
   "source": [
    "from sklearn.linear_model import LinearRegression\n",
    "regressor = LinearRegression()\n",
    "regressor.fit(X_train, y_train)"
   ]
  },
  {
   "cell_type": "markdown",
   "id": "21b216b1-a9ac-4964-bd38-d9330d722757",
   "metadata": {},
   "source": [
    "### Ergebnisse aus dem Testset vorhersagen"
   ]
  },
  {
   "cell_type": "code",
   "execution_count": 68,
   "id": "b01440ec-0d39-47fe-8833-2f58f674ea80",
   "metadata": {},
   "outputs": [],
   "source": [
    "y_pred = regressor.predict(X_test)"
   ]
  },
  {
   "cell_type": "markdown",
   "id": "3fa50204-a356-453f-9030-2fc6b72073c5",
   "metadata": {},
   "source": [
    "### Trainingergebnisse visualisieren"
   ]
  },
  {
   "cell_type": "code",
   "execution_count": 75,
   "id": "b88e4ac9-c62e-4702-9bf8-2b6368834986",
   "metadata": {},
   "outputs": [
    {
     "data": {
      "image/png": "[encoded data removed]",
      "text/plain": [
       "<Figure size 432x288 with 1 Axes>"
      ]
     },
     "metadata": {
      "needs_background": "light"
     },
     "output_type": "display_data"
    }
   ],
   "source": [
    "plt.scatter(X_train, y_train, color = 'red')\n",
    "plt.plot(X_train, regressor.predict(X_train), color = 'blue')\n",
    "plt.title('Gehalt vs. Erfahrung (Trainingset)')\n",
    "plt.xlabel('Berufserfahrung in Jahren')\n",
    "plt.ylabel('Gehalt')\n",
    "plt.show()"
   ]
  },
  {
   "cell_type": "markdown",
   "id": "ef84c638-2e9d-4298-90d8-52654a122b16",
   "metadata": {},
   "source": [
    "### Testergebnisse visualisieren"
   ]
  },
  {
   "cell_type": "code",
   "execution_count": 70,
   "id": "b4545482-0a82-45b2-88ca-cff4af1672e8",
   "metadata": {},
   "outputs": [
    {
     "data": {
      "image/png": "[encoded data removed]",
      "text/plain": [
       "<Figure size 432x288 with 1 Axes>"
      ]
     },
     "metadata": {
      "needs_background": "light"
     },
     "output_type": "display_data"
    }
   ],
   "source": [
    "plt.scatter(X_test, y_test, color = 'red')\n",
    "# Hier muss nichts ersetzt werden!\n",
    "plt.plot(X_train, regressor.predict(X_train), color = 'blue')\n",
    "plt.title('Gehalt vs. Erfahrung (Testset)')\n",
    "plt.xlabel('Berufserfahrung in Jahren')\n",
    "plt.ylabel('Gehalt')\n",
    "plt.show()"
   ]
  },
  {
   "cell_type": "markdown",
   "id": "369f13d7-abdd-4cbf-b991-288dc64a783c",
   "metadata": {},
   "source": [
    "## Eine einfache Vorhersage machen"
   ]
  },
  {
   "cell_type": "code",
   "execution_count": 71,
   "id": "437fa3ab-7ef7-4bee-926c-491afcf55b6a",
   "metadata": {},
   "outputs": [
    {
     "name": "stdout",
     "output_type": "stream",
     "text": [
      "[138531.00067138]\n"
     ]
    }
   ],
   "source": [
    "print(regressor.predict([[12]]))"
   ]
  },
  {
   "cell_type": "markdown",
   "id": "8e8f0344-66f3-4458-803a-9e4967b2b2d6",
   "metadata": {},
   "source": [
    "## Die finale Gleichung der Regression erhalten"
   ]
  },
  {
   "cell_type": "code",
   "execution_count": 72,
   "id": "19ca240a-b3bc-4c80-976b-a4b854cfe8c0",
   "metadata": {},
   "outputs": [
    {
     "name": "stdout",
     "output_type": "stream",
     "text": [
      "[9312.57512673]\n"
     ]
    }
   ],
   "source": [
    "print(regressor.coef_)"
   ]
  },
  {
   "cell_type": "code",
   "execution_count": 73,
   "id": "992052cb-1f20-4c58-a96c-c86e5ae59cd7",
   "metadata": {},
   "outputs": [
    {
     "name": "stdout",
     "output_type": "stream",
     "text": [
      "26780.09915062818\n"
     ]
    }
   ],
   "source": [
    "print(regressor.intercept_)"
   ]
  },
  {
   "cell_type": "markdown",
   "id": "66a7c5f6-d35b-4b09-9573-90338ba14ce6",
   "metadata": {},
   "source": [
    "Die finale Gleichung mit diesen Werten lautet daher:"
   ]
  },
  {
   "cell_type": "markdown",
   "id": "250549b1-0f16-427a-b337-cef4d08a1b20",
   "metadata": {},
   "source": [
    "$$\n",
    "Gehalt = 9312,58 x JahreErfahrung + 26780,1\n",
    "$$"
   ]
  }
 ],
 "metadata": {
  "kernelspec": {
   "display_name": "ludwig",
   "language": "python",
   "name": "ludwig"
  },
  "language_info": {
   "codemirror_mode": {
    "name": "ipython",
    "version": 3
   },
   "file_extension": ".py",
   "mimetype": "text/x-python",
   "name": "python",
   "nbconvert_exporter": "python",
   "pygments_lexer": "ipython3",
   "version": "3.9.1"
  }
 },
 "nbformat": 4,
 "nbformat_minor": 5
}
