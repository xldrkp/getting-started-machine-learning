{
 "cells": [
  {
   "cell_type": "markdown",
   "id": "fa97fdf8-5a72-4d7b-a2cb-bd3df5f77e54",
   "metadata": {},
   "source": [
    "# Erste Schritte mit Markdown\n",
    "\n",
    "Wir lernen gemeinsame die Syntax von Markdown kennen und führen erste Programmschnippsel in Python aus."
   ]
  },
  {
   "cell_type": "markdown",
   "id": "25d50602-f1e5-41b0-ab6e-24ad4173f698",
   "metadata": {},
   "source": [
    "## Variablenzuweisung\n",
    "\n",
    "Wir weisen skalare Werte einer Variablen zu."
   ]
  },
  {
   "cell_type": "code",
   "execution_count": 24,
   "id": "c1f0b62d-da15-43c9-8e37-3611160fdd12",
   "metadata": {},
   "outputs": [],
   "source": [
    "a = 42\n",
    "b = 97"
   ]
  },
  {
   "cell_type": "markdown",
   "id": "c9178659-4467-4e99-8843-3132cf82cbe0",
   "metadata": {},
   "source": [
    "## Ausgabe eines Strings mit Python\n",
    "\n",
    "Begrüßen Sie die Welt mit ihrena neuen Python-Kenntnissen!"
   ]
  },
  {
   "cell_type": "code",
   "execution_count": 25,
   "id": "b9070927-6f0c-4cd5-9efa-3d2d3b447461",
   "metadata": {},
   "outputs": [
    {
     "name": "stdout",
     "output_type": "stream",
     "text": [
      "Hello World!!!!!!!1!\n"
     ]
    }
   ],
   "source": [
    "print(\"Hello World!!!!!!!1!\")"
   ]
  },
  {
   "cell_type": "markdown",
   "id": "159450ef-b344-4d38-9799-a7d8514ae4bb",
   "metadata": {},
   "source": [
    "Bilden Sie die Summe!"
   ]
  },
  {
   "cell_type": "code",
   "execution_count": 26,
   "id": "3a249e3d-af5a-4011-a26f-19e267b751b7",
   "metadata": {},
   "outputs": [
    {
     "name": "stdout",
     "output_type": "stream",
     "text": [
      "139\n"
     ]
    }
   ],
   "source": [
    "print(a + b)"
   ]
  },
  {
   "cell_type": "code",
   "execution_count": 27,
   "id": "b2b0835f-e424-485d-ae6c-0a64652b0204",
   "metadata": {},
   "outputs": [
    {
     "data": {
      "text/plain": [
       "139"
      ]
     },
     "execution_count": 27,
     "metadata": {},
     "output_type": "execute_result"
    }
   ],
   "source": [
    "a + b"
   ]
  },
  {
   "cell_type": "code",
   "execution_count": 28,
   "id": "ea43ccb6-0076-48f8-9c58-a40159f3981c",
   "metadata": {},
   "outputs": [],
   "source": [
    "c = 9"
   ]
  },
  {
   "cell_type": "markdown",
   "id": "8cabb3c5-9c66-4251-8169-5e2bf77766ca",
   "metadata": {},
   "source": [
    "- Hund\n",
    "- Igel\n",
    "- Frosch\n",
    "\n",
    "1. Mach\n",
    "1. Tu\n",
    "1. Stell vor\n",
    "\n",
    "![Hundefoto](20191108-AE1I7261Grafiko.jpgg)\n",
    "\n",
    "$$\n",
    "x = {-b \\pm \\sqrt{b^2-4ac} \\over 2a}.\n",
    "$$\n",
    "\n",
    "\n"
   ]
  }
 ],
 "metadata": {
  "kernelspec": {
   "display_name": "Python 3 (ipykernel)",
   "language": "python",
   "name": "python3"
  },
  "language_info": {
   "codemirror_mode": {
    "name": "ipython",
    "version": 3
   },
   "file_extension": ".py",
   "mimetype": "text/x-python",
   "name": "python",
   "nbconvert_exporter": "python",
   "pygments_lexer": "ipython3",
   "version": "3.10.7"
  }
 },
 "nbformat": 4,
 "nbformat_minor": 5
}
