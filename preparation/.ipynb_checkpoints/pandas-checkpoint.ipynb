{
 "cells": [
  {
   "cell_type": "markdown",
   "id": "0f66c007-5be7-467f-b37e-fbb26547cb10",
   "metadata": {},
   "source": [
    "# pandas\n",
    "\n",
    "*pandas* ist der Standard für allgemeine Operationen zur Datenbereinigung und -vorbereitung geworden. Sie können mit *pandas* viele Dinge tun (und besser!), die Sie vielleicht bisher mit einem Tabellenkalkulationsprogramm erledigt haben."
   ]
  },
  {
   "cell_type": "markdown",
   "id": "0242c3c9-9f53-4c5e-b0a6-b25bb7c51aa7",
   "metadata": {},
   "source": [
    "## Einführung in pandas\n",
    "\n",
    "Auch zu *pandas* existieren zahlreiche Tutorials im Netz sowie Videos und Kurse. Sie können zum Warmwerden zunächst auch [die Beispiele der w3schools]() durcharbeiten, da sie alles Notwendige für die folgenden Schritte enthalten. \n",
    "\n",
    "\n"
   ]
  },
  {
   "cell_type": "markdown",
   "id": "0a2c8fb4-86c3-4c1a-9f4c-c7c0f91ed93c",
   "metadata": {},
   "source": [
    "## Kompetenzcheck\n",
    "\n",
    "Am Ende können Sie auch [eine abschließende Übung](https://www.w3schools.com/python/pandas/exercise.asp) machen, um Ihren Lernfortschritt zu überprüfen.\n"
   ]
  }
 ],
 "metadata": {
  "kernelspec": {
   "display_name": "Python 3 (ipykernel)",
   "language": "python",
   "name": "python3"
  },
  "language_info": {
   "codemirror_mode": {
    "name": "ipython",
    "version": 3
   },
   "file_extension": ".py",
   "mimetype": "text/x-python",
   "name": "python",
   "nbconvert_exporter": "python",
   "pygments_lexer": "ipython3",
   "version": "3.10.6"
  }
 },
 "nbformat": 4,
 "nbformat_minor": 5
}
