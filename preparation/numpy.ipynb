{
 "cells": [
  {
   "cell_type": "markdown",
   "id": "59a255a4-93dd-4e8b-bb1f-e84aa045480f",
   "metadata": {},
   "source": [
    "# numpy\n",
    "\n",
    "numpy ist eine sehr schnelle Bibliothek für Python, mit der hauptsächlich Operationen auf mehrdimensionalen Arrays ausgeführt werden."
   ]
  },
  {
   "cell_type": "markdown",
   "id": "4812471f-b2a2-4cd0-9fa4-be78161688ec",
   "metadata": {},
   "source": [
    "## Einführung in numpy\n",
    "\n",
    "Es gibt viele gute Tutorials und Anleitungen für *numpy* im Netz. Empfehlenswert ist hierbei die Einheit [in der w3schools](https://www.w3schools.com/python/numpy/default.asp). Das Übertragen der Beispiele in ein Jupyter Notebook hilft, die neue Entwicklungsumgebung besser kennenzulernen. Sie können natürlich auch direkt auf der Webseite der w3schools die Beispiele ausführen."
   ]
  },
  {
   "cell_type": "markdown",
   "id": "fba58972",
   "metadata": {},
   "source": [
    "## Einfache statistische Funktionen mit numpy\n",
    "\n",
    "Ebenfalls auf den Seiten der w3schools sind [einige Beispiele zu grundlegenden statistischen Funktionen](https://www.w3schools.com/python/python_ml_mean_median_mode.asp) zu finden. Hierbei sind vor allem die folgenden wichtig für das Verständnis der kommenden Konzepte:\n",
    "\n",
    "- Mittelwert\n",
    "- Median\n",
    "- Standardabweichung"
   ]
  }
 ],
 "metadata": {
  "kernelspec": {
   "display_name": "ludwig",
   "language": "python",
   "name": "ludwig"
  },
  "language_info": {
   "codemirror_mode": {
    "name": "ipython",
    "version": 3
   },
   "file_extension": ".py",
   "mimetype": "text/x-python",
   "name": "python",
   "nbconvert_exporter": "python",
   "pygments_lexer": "ipython3",
   "version": "3.9.1"
  }
 },
 "nbformat": 4,
 "nbformat_minor": 5
}
