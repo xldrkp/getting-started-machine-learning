{
 "cells": [
  {
   "cell_type": "markdown",
   "id": "59a255a4-93dd-4e8b-bb1f-e84aa045480f",
   "metadata": {},
   "source": [
    "# numpy\n",
    "\n",
    "Multidimensionale Arrays und Matrizen, wissenschaftliche Berechnungen"
   ]
  },
  {
   "cell_type": "markdown",
   "id": "fba58972",
   "metadata": {},
   "source": [
    "## Einfache statistische Funktionen\n",
    "\n",
    "https://www.w3schools.com/python/python_ml_mean_median_mode.asp"
   ]
  },
  {
   "cell_type": "code",
   "execution_count": 2,
   "id": "85d9fc66",
   "metadata": {},
   "outputs": [],
   "source": [
    "### Mean"
   ]
  },
  {
   "cell_type": "code",
   "execution_count": 3,
   "id": "f745091c-50f9-496c-9835-fb2a24408764",
   "metadata": {},
   "outputs": [],
   "source": [
    "#!pip install numpy"
   ]
  },
  {
   "cell_type": "code",
   "execution_count": 4,
   "id": "b904baf2",
   "metadata": {},
   "outputs": [],
   "source": [
    "speed = [99,86,87,88,111,86,103,87,94,78,77,85,86]"
   ]
  },
  {
   "cell_type": "markdown",
   "id": "b4390072",
   "metadata": {},
   "source": [
    "### Mean (Mittelwert)"
   ]
  },
  {
   "cell_type": "code",
   "execution_count": 5,
   "id": "4a83cbcf-a866-4247-a697-5f84c8d9aadc",
   "metadata": {},
   "outputs": [],
   "source": [
    "import numpy as np"
   ]
  },
  {
   "cell_type": "code",
   "execution_count": 8,
   "id": "dd4c5d3e-ee93-467e-b161-a3736eea53a1",
   "metadata": {},
   "outputs": [
    {
     "data": {
      "text/plain": [
       "87.0"
      ]
     },
     "execution_count": 8,
     "metadata": {},
     "output_type": "execute_result"
    }
   ],
   "source": [
    "x = np.median(speed)\n",
    "x"
   ]
  },
  {
   "cell_type": "markdown",
   "id": "98a8734d-a51f-4ea0-97ee-1bf16c5056ac",
   "metadata": {},
   "source": [
    "## Übungen zum Auswählen von Daten aus einer Tabelle\n",
    "\n",
    "Hier geht es vornehmlich um die Methode `iloc` in numpy und pandas.\n",
    "\n",
    "https://pandas.pydata.org/docs/reference/api/pandas.DataFrame.iloc.html?highlight=iloc#pandas.DataFrame.iloc"
   ]
  }
 ],
 "metadata": {
  "kernelspec": {
   "display_name": "ludwig",
   "language": "python",
   "name": "ludwig"
  },
  "language_info": {
   "codemirror_mode": {
    "name": "ipython",
    "version": 3
   },
   "file_extension": ".py",
   "mimetype": "text/x-python",
   "name": "python",
   "nbconvert_exporter": "python",
   "pygments_lexer": "ipython3",
   "version": "3.9.1"
  }
 },
 "nbformat": 4,
 "nbformat_minor": 5
}
