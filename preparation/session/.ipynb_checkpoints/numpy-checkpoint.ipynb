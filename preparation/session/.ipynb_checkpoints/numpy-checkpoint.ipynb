{
 "cells": [
  {
   "cell_type": "markdown",
   "id": "906d18a3-3b00-4703-a774-2d62b60b0c09",
   "metadata": {},
   "source": [
    "# Erste Schritte mit numpy"
   ]
  },
  {
   "cell_type": "code",
   "execution_count": 49,
   "id": "d89f79f2-6b81-4767-9d08-85a888d6a10e",
   "metadata": {},
   "outputs": [
    {
     "name": "stdout",
     "output_type": "stream",
     "text": [
      "Defaulting to user installation because normal site-packages is not writeable\n",
      "Requirement already satisfied: numpy in /home/xldrkp/.local/lib/python3.10/site-packages (1.23.4)\n"
     ]
    }
   ],
   "source": [
    "!pip install numpy"
   ]
  },
  {
   "cell_type": "code",
   "execution_count": 7,
   "id": "91206849-e117-460a-bbb3-0c4d1dea5503",
   "metadata": {},
   "outputs": [
    {
     "name": "stdout",
     "output_type": "stream",
     "text": [
      "[1 2 3 4 5]\n"
     ]
    }
   ],
   "source": [
    "import numpy\n",
    "\n",
    "arr = numpy.array([1, 2, 3, 4, 5])\n",
    "\n",
    "print(arr)"
   ]
  },
  {
   "cell_type": "code",
   "execution_count": 10,
   "id": "7cf4100a-7afb-49e8-960b-c65709138d49",
   "metadata": {},
   "outputs": [
    {
     "name": "stdout",
     "output_type": "stream",
     "text": [
      "[1 2 3 4 5]\n",
      "<class 'numpy.ndarray'>\n"
     ]
    }
   ],
   "source": [
    "import numpy as np\n",
    "\n",
    "arr = np.array([1, 2, 3, 4, 5])\n",
    "\n",
    "print(arr)\n",
    "\n",
    "print(type(arr))"
   ]
  },
  {
   "cell_type": "code",
   "execution_count": 12,
   "id": "e5314bff-cc55-4e00-9dcf-919798f9bf19",
   "metadata": {},
   "outputs": [
    {
     "name": "stdout",
     "output_type": "stream",
     "text": [
      "<class 'list'>\n"
     ]
    }
   ],
   "source": [
    "l = [1,2,3,4,5]\n",
    "print(type(l))"
   ]
  },
  {
   "cell_type": "code",
   "execution_count": 13,
   "id": "c6e11867-a19c-4c44-818d-704996b716ac",
   "metadata": {},
   "outputs": [
    {
     "name": "stdout",
     "output_type": "stream",
     "text": [
      "<class 'numpy.ndarray'>\n"
     ]
    }
   ],
   "source": [
    "x = np.array(42)\n",
    "print(type(x))"
   ]
  },
  {
   "cell_type": "markdown",
   "id": "343986ff-bc4d-4fe1-b5d5-f23335007b71",
   "metadata": {},
   "source": [
    "## 2-D-Arrays mit numpy"
   ]
  },
  {
   "cell_type": "code",
   "execution_count": 19,
   "id": "d71b6af2-36a6-47de-9764-6e23dc9cb9cb",
   "metadata": {},
   "outputs": [
    {
     "name": "stdout",
     "output_type": "stream",
     "text": [
      "6\n"
     ]
    }
   ],
   "source": [
    "\n",
    "\n",
    "arr = np.array([ [1, 2, 3], [4, 5, 6] ])\n",
    "\n",
    "print(arr[1,-1])\n",
    "\n"
   ]
  },
  {
   "cell_type": "markdown",
   "id": "6bd8bdb4-6bdd-4c46-8966-f3b4a59dd303",
   "metadata": {},
   "source": [
    "\n",
    "\n",
    "## Zerteilen von Datenstrukturen (*slicing*)"
   ]
  },
  {
   "cell_type": "code",
   "execution_count": 29,
   "id": "3a6bcaf2-4916-4611-bb8f-03b97d1f8084",
   "metadata": {},
   "outputs": [
    {
     "name": "stdout",
     "output_type": "stream",
     "text": [
      "[2 3 4 5]\n",
      "[1 2 3 4 5 6]\n"
     ]
    }
   ],
   "source": [
    "\n",
    "\n",
    "arr = np.array([1, 2, 3, 4, 5, 6, 7])\n",
    "\n",
    "print(arr[1:5])\n",
    "\n",
    "print(arr[:-1])"
   ]
  },
  {
   "cell_type": "code",
   "execution_count": 31,
   "id": "99f14ce8-3967-4944-8f37-e4455c5cc15c",
   "metadata": {},
   "outputs": [
    {
     "name": "stdout",
     "output_type": "stream",
     "text": [
      "[1 2 3 4] [5 6 7]\n"
     ]
    }
   ],
   "source": [
    "x = arr[:4]\n",
    "y = arr[4:]\n",
    "\n",
    "print(x, y)"
   ]
  },
  {
   "cell_type": "code",
   "execution_count": 32,
   "id": "bd605426-9551-4b92-8bbc-1da79a712197",
   "metadata": {},
   "outputs": [
    {
     "data": {
      "text/plain": [
       "7"
      ]
     },
     "execution_count": 32,
     "metadata": {},
     "output_type": "execute_result"
    }
   ],
   "source": [
    "len(arr)"
   ]
  },
  {
   "cell_type": "code",
   "execution_count": 34,
   "id": "630aeb8b-0c23-47c6-b1e4-89a3b8aeaba3",
   "metadata": {},
   "outputs": [
    {
     "name": "stdout",
     "output_type": "stream",
     "text": [
      "[1 2 3] [4 5 6 7]\n"
     ]
    }
   ],
   "source": [
    "x = arr[:len(arr)//2]\n",
    "y = arr[len(arr)//2:]\n",
    "print(x, y)"
   ]
  },
  {
   "cell_type": "code",
   "execution_count": 36,
   "id": "25771c27-874f-4ec9-ae02-2a10c044996f",
   "metadata": {},
   "outputs": [
    {
     "name": "stdout",
     "output_type": "stream",
     "text": [
      "[7 8 9]\n"
     ]
    }
   ],
   "source": [
    "\n",
    "arr = np.array([[1, 2, 3, 4, 5], [6, 7, 8, 9, 10]])\n",
    "\n",
    "print(arr[1, 1:4])"
   ]
  },
  {
   "cell_type": "code",
   "execution_count": 46,
   "id": "2111fb5f-9f6e-4031-9056-8cc713c88aca",
   "metadata": {},
   "outputs": [
    {
     "name": "stdout",
     "output_type": "stream",
     "text": [
      "[[2 3 4]\n",
      " [7 8 9]]\n"
     ]
    }
   ],
   "source": [
    "\n",
    "arr = np.array([[1, 2, 3, 4, 2], [6, 7, 8, 9, 10]])\n",
    "\n",
    "print(arr[0:2, 1:4])"
   ]
  },
  {
   "cell_type": "code",
   "execution_count": 47,
   "id": "563d4d8b-b1cd-4c56-956b-abf113c96c4c",
   "metadata": {},
   "outputs": [
    {
     "name": "stdout",
     "output_type": "stream",
     "text": [
      "[1 2 3 2]\n",
      "bool\n",
      "[[ True  True  True False  True]\n",
      " [False False False False False]]\n"
     ]
    }
   ],
   "source": [
    "below = arr<4\n",
    "print(arr[below])\n",
    "print(below.dtype)\n",
    "print(below)"
   ]
  },
  {
   "cell_type": "code",
   "execution_count": 48,
   "id": "fd4b4a0e-579c-447d-8478-8bd366016eee",
   "metadata": {},
   "outputs": [
    {
     "name": "stdout",
     "output_type": "stream",
     "text": [
      "int64\n"
     ]
    }
   ],
   "source": [
    "print(arr.dtype)"
   ]
  }
 ],
 "metadata": {
  "kernelspec": {
   "display_name": "Python 3 (ipykernel)",
   "language": "python",
   "name": "python3"
  },
  "language_info": {
   "codemirror_mode": {
    "name": "ipython",
    "version": 3
   },
   "file_extension": ".py",
   "mimetype": "text/x-python",
   "name": "python",
   "nbconvert_exporter": "python",
   "pygments_lexer": "ipython3",
   "version": "3.10.7"
  }
 },
 "nbformat": 4,
 "nbformat_minor": 5
}
