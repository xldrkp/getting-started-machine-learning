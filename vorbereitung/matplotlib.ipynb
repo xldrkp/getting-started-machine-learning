{
 "cells": [
  {
   "cell_type": "markdown",
   "id": "ec5a3d82-e274-4404-b11d-906fd36526e5",
   "metadata": {},
   "source": [
    "# matplotlib\n",
    "\n",
    "Graphen und Visualisierungen"
   ]
  },
  {
   "cell_type": "markdown",
   "id": "a4aca504-2919-493b-b278-62860f9527de",
   "metadata": {},
   "source": [
    "https://matplotlib.org/stable/tutorials/introductory/pyplot.html#sphx-glr-tutorials-introductory-pyplot-py"
   ]
  }
 ],
 "metadata": {
  "kernelspec": {
   "display_name": "Python 3 (ipykernel)",
   "language": "python",
   "name": "python3"
  },
  "language_info": {
   "codemirror_mode": {
    "name": "ipython",
    "version": 3
   },
   "file_extension": ".py",
   "mimetype": "text/x-python",
   "name": "python",
   "nbconvert_exporter": "python",
   "pygments_lexer": "ipython3",
   "version": "3.10.6"
  }
 },
 "nbformat": 4,
 "nbformat_minor": 5
}
